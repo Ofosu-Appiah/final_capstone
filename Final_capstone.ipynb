{
 "cells": [
  {
   "cell_type": "code",
   "execution_count": 1,
   "metadata": {},
   "outputs": [],
   "source": [
    "import pandas as pd\n",
    "import numpy as np\n",
    "import statsmodels.formula.api as smf\n",
    "import seaborn as sns\n",
    "import matplotlib.pyplot as plt\n",
    "from sklearn.model_selection import train_test_split\n",
    "from sklearn.preprocessing import LabelEncoder\n",
    "from sklearn.preprocessing import OrdinalEncoder\n",
    "from sklearn.feature_selection import SelectKBest\n",
    "from sklearn.feature_selection import chi2\n"
   ]
  },
  {
   "cell_type": "code",
   "execution_count": 2,
   "metadata": {},
   "outputs": [
    {
     "data": {
      "text/html": [
       "<div>\n",
       "<style scoped>\n",
       "    .dataframe tbody tr th:only-of-type {\n",
       "        vertical-align: middle;\n",
       "    }\n",
       "\n",
       "    .dataframe tbody tr th {\n",
       "        vertical-align: top;\n",
       "    }\n",
       "\n",
       "    .dataframe thead th {\n",
       "        text-align: right;\n",
       "    }\n",
       "</style>\n",
       "<table border=\"1\" class=\"dataframe\">\n",
       "  <thead>\n",
       "    <tr style=\"text-align: right;\">\n",
       "      <th></th>\n",
       "      <th>case_id</th>\n",
       "      <th>Hospital_code</th>\n",
       "      <th>Hospital_type_code</th>\n",
       "      <th>City_Code_Hospital</th>\n",
       "      <th>Hospital_region_code</th>\n",
       "      <th>Available Extra Rooms in Hospital</th>\n",
       "      <th>Department</th>\n",
       "      <th>Ward_Type</th>\n",
       "      <th>Ward_Facility_Code</th>\n",
       "      <th>Bed Grade</th>\n",
       "      <th>patientid</th>\n",
       "      <th>City_Code_Patient</th>\n",
       "      <th>Type of Admission</th>\n",
       "      <th>Severity of Illness</th>\n",
       "      <th>Visitors with Patient</th>\n",
       "      <th>Age</th>\n",
       "      <th>Admission_Deposit</th>\n",
       "      <th>Stay</th>\n",
       "    </tr>\n",
       "  </thead>\n",
       "  <tbody>\n",
       "    <tr>\n",
       "      <th>0</th>\n",
       "      <td>1</td>\n",
       "      <td>8</td>\n",
       "      <td>c</td>\n",
       "      <td>3</td>\n",
       "      <td>Z</td>\n",
       "      <td>3</td>\n",
       "      <td>radiotherapy</td>\n",
       "      <td>R</td>\n",
       "      <td>F</td>\n",
       "      <td>2.0</td>\n",
       "      <td>31397</td>\n",
       "      <td>7.0</td>\n",
       "      <td>Emergency</td>\n",
       "      <td>Extreme</td>\n",
       "      <td>2</td>\n",
       "      <td>51-60</td>\n",
       "      <td>4911.0</td>\n",
       "      <td>0-10</td>\n",
       "    </tr>\n",
       "    <tr>\n",
       "      <th>1</th>\n",
       "      <td>2</td>\n",
       "      <td>2</td>\n",
       "      <td>c</td>\n",
       "      <td>5</td>\n",
       "      <td>Z</td>\n",
       "      <td>2</td>\n",
       "      <td>radiotherapy</td>\n",
       "      <td>S</td>\n",
       "      <td>F</td>\n",
       "      <td>2.0</td>\n",
       "      <td>31397</td>\n",
       "      <td>7.0</td>\n",
       "      <td>Trauma</td>\n",
       "      <td>Extreme</td>\n",
       "      <td>2</td>\n",
       "      <td>51-60</td>\n",
       "      <td>5954.0</td>\n",
       "      <td>41-50</td>\n",
       "    </tr>\n",
       "    <tr>\n",
       "      <th>2</th>\n",
       "      <td>3</td>\n",
       "      <td>10</td>\n",
       "      <td>e</td>\n",
       "      <td>1</td>\n",
       "      <td>X</td>\n",
       "      <td>2</td>\n",
       "      <td>anesthesia</td>\n",
       "      <td>S</td>\n",
       "      <td>E</td>\n",
       "      <td>2.0</td>\n",
       "      <td>31397</td>\n",
       "      <td>7.0</td>\n",
       "      <td>Trauma</td>\n",
       "      <td>Extreme</td>\n",
       "      <td>2</td>\n",
       "      <td>51-60</td>\n",
       "      <td>4745.0</td>\n",
       "      <td>31-40</td>\n",
       "    </tr>\n",
       "    <tr>\n",
       "      <th>3</th>\n",
       "      <td>4</td>\n",
       "      <td>26</td>\n",
       "      <td>b</td>\n",
       "      <td>2</td>\n",
       "      <td>Y</td>\n",
       "      <td>2</td>\n",
       "      <td>radiotherapy</td>\n",
       "      <td>R</td>\n",
       "      <td>D</td>\n",
       "      <td>2.0</td>\n",
       "      <td>31397</td>\n",
       "      <td>7.0</td>\n",
       "      <td>Trauma</td>\n",
       "      <td>Extreme</td>\n",
       "      <td>2</td>\n",
       "      <td>51-60</td>\n",
       "      <td>7272.0</td>\n",
       "      <td>41-50</td>\n",
       "    </tr>\n",
       "  </tbody>\n",
       "</table>\n",
       "</div>"
      ],
      "text/plain": [
       "   case_id  Hospital_code Hospital_type_code  City_Code_Hospital  \\\n",
       "0        1              8                  c                   3   \n",
       "1        2              2                  c                   5   \n",
       "2        3             10                  e                   1   \n",
       "3        4             26                  b                   2   \n",
       "\n",
       "  Hospital_region_code  Available Extra Rooms in Hospital    Department  \\\n",
       "0                    Z                                  3  radiotherapy   \n",
       "1                    Z                                  2  radiotherapy   \n",
       "2                    X                                  2    anesthesia   \n",
       "3                    Y                                  2  radiotherapy   \n",
       "\n",
       "  Ward_Type Ward_Facility_Code  Bed Grade  patientid  City_Code_Patient  \\\n",
       "0         R                  F        2.0      31397                7.0   \n",
       "1         S                  F        2.0      31397                7.0   \n",
       "2         S                  E        2.0      31397                7.0   \n",
       "3         R                  D        2.0      31397                7.0   \n",
       "\n",
       "  Type of Admission Severity of Illness  Visitors with Patient    Age  \\\n",
       "0         Emergency             Extreme                      2  51-60   \n",
       "1            Trauma             Extreme                      2  51-60   \n",
       "2            Trauma             Extreme                      2  51-60   \n",
       "3            Trauma             Extreme                      2  51-60   \n",
       "\n",
       "   Admission_Deposit   Stay  \n",
       "0             4911.0   0-10  \n",
       "1             5954.0  41-50  \n",
       "2             4745.0  31-40  \n",
       "3             7272.0  41-50  "
      ]
     },
     "execution_count": 2,
     "metadata": {},
     "output_type": "execute_result"
    }
   ],
   "source": [
    "df = pd.read_csv('\\\\Users\\\\cofos\\\\Downloads\\\\train_data.csv')\n",
    "pd.set_option('display.max_columns', 999)\n",
    "pd.set_option('display.max_rows', 999)\n",
    "df.head(4)"
   ]
  },
  {
   "cell_type": "code",
   "execution_count": null,
   "metadata": {},
   "outputs": [],
   "source": []
  },
  {
   "cell_type": "code",
   "execution_count": 3,
   "metadata": {},
   "outputs": [],
   "source": [
    "def age_gp (row):\n",
    "    if row['Age']== '0-10':\n",
    "        return '0-20'\n",
    "    if row['Age']== '11-20':\n",
    "        return '0-20'\n",
    "    if row['Age']== '21-30':\n",
    "        return '21-40'\n",
    "    if row['Age']== '31-40':\n",
    "        return '21-40'\n",
    "    if row['Age']== '41-50':\n",
    "        return '41-60'\n",
    "    return 'Above 60'\n",
    "df['Age_group'] = df.apply(lambda row:age_gp(row), axis=1)"
   ]
  },
  {
   "cell_type": "code",
   "execution_count": 4,
   "metadata": {},
   "outputs": [
    {
     "data": {
      "text/plain": [
       "Above 60    127185\n",
       "21-40       104482\n",
       "41-60        63749\n",
       "0-20         23022\n",
       "Name: Age_group, dtype: int64"
      ]
     },
     "execution_count": 4,
     "metadata": {},
     "output_type": "execute_result"
    }
   ],
   "source": [
    "df['Age_group'].value_counts()"
   ]
  },
  {
   "cell_type": "code",
   "execution_count": 5,
   "metadata": {},
   "outputs": [],
   "source": [
    "def stay_gp (row):\n",
    "    if row['Stay']== '0-10':\n",
    "        return 'within 10 Days'\n",
    "    if row['Stay']== '11-20':\n",
    "        return '14-21days'\n",
    "    if row['Stay']== '21-30':\n",
    "        return '3weeks-month'\n",
    "    return 'More than a month'\n",
    "    \n",
    "  #return row['A'] * row['B']\n",
    "\n",
    "df['newcolumn'] = df.apply(lambda row:stay_gp(row), axis=1)"
   ]
  },
  {
   "cell_type": "code",
   "execution_count": 6,
   "metadata": {},
   "outputs": [
    {
     "data": {
      "text/plain": [
       "More than a month    129204\n",
       "3weeks-month          87491\n",
       "14-21days             78139\n",
       "within 10 Days        23604\n",
       "Name: newcolumn, dtype: int64"
      ]
     },
     "execution_count": 6,
     "metadata": {},
     "output_type": "execute_result"
    }
   ],
   "source": [
    "df['newcolumn'].value_counts()"
   ]
  },
  {
   "cell_type": "code",
   "execution_count": 7,
   "metadata": {},
   "outputs": [],
   "source": [
    "df['Bed Grade'] = df['Bed Grade'].fillna(\"2\")\n",
    "df['City_Code_Patient']=df['City_Code_Patient'].replace(np.nan,8)"
   ]
  },
  {
   "cell_type": "code",
   "execution_count": 8,
   "metadata": {},
   "outputs": [],
   "source": [
    "conditions =[(df['Available Extra Rooms in Hospital']<= 0),(df['Available Extra Rooms in Hospital']<= 10),\n",
    "            (df['Available Extra Rooms in Hospital']<=20),(df['Available Extra Rooms in Hospital']>20)]\n",
    "values = ['0','1-10','11-20','more than 20']\n",
    "df['Number_of_extrarooms'] = np.select(conditions,values)"
   ]
  },
  {
   "cell_type": "code",
   "execution_count": 16,
   "metadata": {},
   "outputs": [
    {
     "data": {
      "text/plain": [
       "0-10        316047\n",
       "11-20         2243\n",
       "21-30          139\n",
       "Above 30         9\n",
       "Name: Number_of_visitors, dtype: int64"
      ]
     },
     "execution_count": 16,
     "metadata": {},
     "output_type": "execute_result"
    }
   ],
   "source": [
    "df['Number_of_visitors'].value_counts()"
   ]
  },
  {
   "cell_type": "code",
   "execution_count": 13,
   "metadata": {},
   "outputs": [],
   "source": [
    "def visit_gp (row):\n",
    "    if row['Visitors with Patient']<= 10:\n",
    "        return '0-10'\n",
    "    if row['Visitors with Patient']<= 20:\n",
    "        return '11-20'\n",
    "    if row['Visitors with Patient']<= 30:\n",
    "        return '21-30'\n",
    "    return 'Above 30'\n",
    "df['Number_of_visitors'] = df.apply(lambda row:visit_gp(row), axis=1)"
   ]
  },
  {
   "cell_type": "code",
   "execution_count": 17,
   "metadata": {},
   "outputs": [
    {
     "name": "stdout",
     "output_type": "stream",
     "text": [
      "<class 'pandas.core.frame.DataFrame'>\n",
      "RangeIndex: 318438 entries, 0 to 318437\n",
      "Data columns (total 22 columns):\n",
      " #   Column                             Non-Null Count   Dtype  \n",
      "---  ------                             --------------   -----  \n",
      " 0   case_id                            318438 non-null  int64  \n",
      " 1   Hospital_code                      318438 non-null  int64  \n",
      " 2   Hospital_type_code                 318438 non-null  object \n",
      " 3   City_Code_Hospital                 318438 non-null  int64  \n",
      " 4   Hospital_region_code               318438 non-null  object \n",
      " 5   Available Extra Rooms in Hospital  318438 non-null  int64  \n",
      " 6   Department                         318438 non-null  object \n",
      " 7   Ward_Type                          318438 non-null  object \n",
      " 8   Ward_Facility_Code                 318438 non-null  object \n",
      " 9   Bed Grade                          318438 non-null  object \n",
      " 10  patientid                          318438 non-null  int64  \n",
      " 11  City_Code_Patient                  318438 non-null  float64\n",
      " 12  Type of Admission                  318438 non-null  object \n",
      " 13  Severity of Illness                318438 non-null  object \n",
      " 14  Visitors with Patient              318438 non-null  int64  \n",
      " 15  Age                                318438 non-null  object \n",
      " 16  Admission_Deposit                  318438 non-null  float64\n",
      " 17  Stay                               318438 non-null  object \n",
      " 18  Age_group                          318438 non-null  object \n",
      " 19  newcolumn                          318438 non-null  object \n",
      " 20  Number_of_extrarooms               318438 non-null  object \n",
      " 21  Number_of_visitors                 318438 non-null  object \n",
      "dtypes: float64(2), int64(6), object(14)\n",
      "memory usage: 53.4+ MB\n"
     ]
    }
   ],
   "source": [
    "df.info()"
   ]
  },
  {
   "cell_type": "code",
   "execution_count": 18,
   "metadata": {},
   "outputs": [
    {
     "data": {
      "text/html": [
       "<div>\n",
       "<style scoped>\n",
       "    .dataframe tbody tr th:only-of-type {\n",
       "        vertical-align: middle;\n",
       "    }\n",
       "\n",
       "    .dataframe tbody tr th {\n",
       "        vertical-align: top;\n",
       "    }\n",
       "\n",
       "    .dataframe thead th {\n",
       "        text-align: right;\n",
       "    }\n",
       "</style>\n",
       "<table border=\"1\" class=\"dataframe\">\n",
       "  <thead>\n",
       "    <tr style=\"text-align: right;\">\n",
       "      <th></th>\n",
       "      <th>Number_of_visitors</th>\n",
       "    </tr>\n",
       "  </thead>\n",
       "  <tbody>\n",
       "    <tr>\n",
       "      <th>0</th>\n",
       "      <td>0-10</td>\n",
       "    </tr>\n",
       "    <tr>\n",
       "      <th>1</th>\n",
       "      <td>0-10</td>\n",
       "    </tr>\n",
       "    <tr>\n",
       "      <th>2</th>\n",
       "      <td>0-10</td>\n",
       "    </tr>\n",
       "    <tr>\n",
       "      <th>3</th>\n",
       "      <td>0-10</td>\n",
       "    </tr>\n",
       "    <tr>\n",
       "      <th>4</th>\n",
       "      <td>0-10</td>\n",
       "    </tr>\n",
       "    <tr>\n",
       "      <th>...</th>\n",
       "      <td>...</td>\n",
       "    </tr>\n",
       "    <tr>\n",
       "      <th>318433</th>\n",
       "      <td>0-10</td>\n",
       "    </tr>\n",
       "    <tr>\n",
       "      <th>318434</th>\n",
       "      <td>0-10</td>\n",
       "    </tr>\n",
       "    <tr>\n",
       "      <th>318435</th>\n",
       "      <td>0-10</td>\n",
       "    </tr>\n",
       "    <tr>\n",
       "      <th>318436</th>\n",
       "      <td>0-10</td>\n",
       "    </tr>\n",
       "    <tr>\n",
       "      <th>318437</th>\n",
       "      <td>0-10</td>\n",
       "    </tr>\n",
       "  </tbody>\n",
       "</table>\n",
       "<p>318438 rows × 1 columns</p>\n",
       "</div>"
      ],
      "text/plain": [
       "       Number_of_visitors\n",
       "0                    0-10\n",
       "1                    0-10\n",
       "2                    0-10\n",
       "3                    0-10\n",
       "4                    0-10\n",
       "...                   ...\n",
       "318433               0-10\n",
       "318434               0-10\n",
       "318435               0-10\n",
       "318436               0-10\n",
       "318437               0-10\n",
       "\n",
       "[318438 rows x 1 columns]"
      ]
     },
     "execution_count": 18,
     "metadata": {},
     "output_type": "execute_result"
    }
   ],
   "source": [
    "df[['Number_of_visitors']]"
   ]
  },
  {
   "cell_type": "code",
   "execution_count": 19,
   "metadata": {},
   "outputs": [],
   "source": [
    "#df['number_of_rooms']=pd.cut(df['Available Extra Rooms in Hospital'],[0,10,20,25],labels=[0-10,11-20,20-25])"
   ]
  },
  {
   "cell_type": "code",
   "execution_count": 20,
   "metadata": {},
   "outputs": [],
   "source": [
    "#df['number_of_rooms'].value_counts()"
   ]
  },
  {
   "cell_type": "code",
   "execution_count": 25,
   "metadata": {},
   "outputs": [
    {
     "data": {
      "text/plain": [
       "a    143425\n",
       "b     68946\n",
       "c     45928\n",
       "e     24770\n",
       "d     20389\n",
       "f     10703\n",
       "g      4277\n",
       "Name: Hospital_type_code, dtype: int64"
      ]
     },
     "execution_count": 25,
     "metadata": {},
     "output_type": "execute_result"
    }
   ],
   "source": [
    "df['Hospital_type_code'].value_counts()"
   ]
  },
  {
   "cell_type": "code",
   "execution_count": 22,
   "metadata": {},
   "outputs": [],
   "source": [
    "df['number_of_visits']=pd.cut(df['Visitors with Patient'],[0,20,30,35],labels=[0-20,21-30,31-35])"
   ]
  },
  {
   "cell_type": "code",
   "execution_count": 131,
   "metadata": {},
   "outputs": [
    {
     "data": {
      "text/html": [
       "<div>\n",
       "<style scoped>\n",
       "    .dataframe tbody tr th:only-of-type {\n",
       "        vertical-align: middle;\n",
       "    }\n",
       "\n",
       "    .dataframe tbody tr th {\n",
       "        vertical-align: top;\n",
       "    }\n",
       "\n",
       "    .dataframe thead th {\n",
       "        text-align: right;\n",
       "    }\n",
       "</style>\n",
       "<table border=\"1\" class=\"dataframe\">\n",
       "  <thead>\n",
       "    <tr style=\"text-align: right;\">\n",
       "      <th></th>\n",
       "      <th>case_id</th>\n",
       "      <th>Hospital_code</th>\n",
       "      <th>Hospital_type_code</th>\n",
       "      <th>City_Code_Hospital</th>\n",
       "      <th>Hospital_region_code</th>\n",
       "      <th>Available Extra Rooms in Hospital</th>\n",
       "      <th>Department</th>\n",
       "      <th>Ward_Type</th>\n",
       "      <th>Ward_Facility_Code</th>\n",
       "      <th>Bed Grade</th>\n",
       "      <th>patientid</th>\n",
       "      <th>City_Code_Patient</th>\n",
       "      <th>Type of Admission</th>\n",
       "      <th>Severity of Illness</th>\n",
       "      <th>Visitors with Patient</th>\n",
       "      <th>Age</th>\n",
       "      <th>Admission_Deposit</th>\n",
       "      <th>Stay</th>\n",
       "      <th>newcolumn</th>\n",
       "      <th>Age_group</th>\n",
       "      <th>number_of_visits</th>\n",
       "      <th>number_of_rooms</th>\n",
       "    </tr>\n",
       "  </thead>\n",
       "  <tbody>\n",
       "    <tr>\n",
       "      <th>0</th>\n",
       "      <td>1</td>\n",
       "      <td>8</td>\n",
       "      <td>c</td>\n",
       "      <td>3</td>\n",
       "      <td>Z</td>\n",
       "      <td>3</td>\n",
       "      <td>radiotherapy</td>\n",
       "      <td>R</td>\n",
       "      <td>F</td>\n",
       "      <td>2</td>\n",
       "      <td>31397</td>\n",
       "      <td>7.0</td>\n",
       "      <td>Emergency</td>\n",
       "      <td>Extreme</td>\n",
       "      <td>2</td>\n",
       "      <td>51-60</td>\n",
       "      <td>4911.0</td>\n",
       "      <td>0-10</td>\n",
       "      <td>within 10 Days</td>\n",
       "      <td>Above 60</td>\n",
       "      <td>-20</td>\n",
       "      <td>-10</td>\n",
       "    </tr>\n",
       "    <tr>\n",
       "      <th>1</th>\n",
       "      <td>2</td>\n",
       "      <td>2</td>\n",
       "      <td>c</td>\n",
       "      <td>5</td>\n",
       "      <td>Z</td>\n",
       "      <td>2</td>\n",
       "      <td>radiotherapy</td>\n",
       "      <td>S</td>\n",
       "      <td>F</td>\n",
       "      <td>2</td>\n",
       "      <td>31397</td>\n",
       "      <td>7.0</td>\n",
       "      <td>Trauma</td>\n",
       "      <td>Extreme</td>\n",
       "      <td>2</td>\n",
       "      <td>51-60</td>\n",
       "      <td>5954.0</td>\n",
       "      <td>41-50</td>\n",
       "      <td>More than a month</td>\n",
       "      <td>Above 60</td>\n",
       "      <td>-20</td>\n",
       "      <td>-10</td>\n",
       "    </tr>\n",
       "    <tr>\n",
       "      <th>2</th>\n",
       "      <td>3</td>\n",
       "      <td>10</td>\n",
       "      <td>e</td>\n",
       "      <td>1</td>\n",
       "      <td>X</td>\n",
       "      <td>2</td>\n",
       "      <td>anesthesia</td>\n",
       "      <td>S</td>\n",
       "      <td>E</td>\n",
       "      <td>2</td>\n",
       "      <td>31397</td>\n",
       "      <td>7.0</td>\n",
       "      <td>Trauma</td>\n",
       "      <td>Extreme</td>\n",
       "      <td>2</td>\n",
       "      <td>51-60</td>\n",
       "      <td>4745.0</td>\n",
       "      <td>31-40</td>\n",
       "      <td>More than a month</td>\n",
       "      <td>Above 60</td>\n",
       "      <td>-20</td>\n",
       "      <td>-10</td>\n",
       "    </tr>\n",
       "    <tr>\n",
       "      <th>3</th>\n",
       "      <td>4</td>\n",
       "      <td>26</td>\n",
       "      <td>b</td>\n",
       "      <td>2</td>\n",
       "      <td>Y</td>\n",
       "      <td>2</td>\n",
       "      <td>radiotherapy</td>\n",
       "      <td>R</td>\n",
       "      <td>D</td>\n",
       "      <td>2</td>\n",
       "      <td>31397</td>\n",
       "      <td>7.0</td>\n",
       "      <td>Trauma</td>\n",
       "      <td>Extreme</td>\n",
       "      <td>2</td>\n",
       "      <td>51-60</td>\n",
       "      <td>7272.0</td>\n",
       "      <td>41-50</td>\n",
       "      <td>More than a month</td>\n",
       "      <td>Above 60</td>\n",
       "      <td>-20</td>\n",
       "      <td>-10</td>\n",
       "    </tr>\n",
       "    <tr>\n",
       "      <th>4</th>\n",
       "      <td>5</td>\n",
       "      <td>26</td>\n",
       "      <td>b</td>\n",
       "      <td>2</td>\n",
       "      <td>Y</td>\n",
       "      <td>2</td>\n",
       "      <td>radiotherapy</td>\n",
       "      <td>S</td>\n",
       "      <td>D</td>\n",
       "      <td>2</td>\n",
       "      <td>31397</td>\n",
       "      <td>7.0</td>\n",
       "      <td>Trauma</td>\n",
       "      <td>Extreme</td>\n",
       "      <td>2</td>\n",
       "      <td>51-60</td>\n",
       "      <td>5558.0</td>\n",
       "      <td>41-50</td>\n",
       "      <td>More than a month</td>\n",
       "      <td>Above 60</td>\n",
       "      <td>-20</td>\n",
       "      <td>-10</td>\n",
       "    </tr>\n",
       "  </tbody>\n",
       "</table>\n",
       "</div>"
      ],
      "text/plain": [
       "   case_id  Hospital_code Hospital_type_code  City_Code_Hospital  \\\n",
       "0        1              8                  c                   3   \n",
       "1        2              2                  c                   5   \n",
       "2        3             10                  e                   1   \n",
       "3        4             26                  b                   2   \n",
       "4        5             26                  b                   2   \n",
       "\n",
       "  Hospital_region_code  Available Extra Rooms in Hospital    Department  \\\n",
       "0                    Z                                  3  radiotherapy   \n",
       "1                    Z                                  2  radiotherapy   \n",
       "2                    X                                  2    anesthesia   \n",
       "3                    Y                                  2  radiotherapy   \n",
       "4                    Y                                  2  radiotherapy   \n",
       "\n",
       "  Ward_Type Ward_Facility_Code Bed Grade  patientid  City_Code_Patient  \\\n",
       "0         R                  F         2      31397                7.0   \n",
       "1         S                  F         2      31397                7.0   \n",
       "2         S                  E         2      31397                7.0   \n",
       "3         R                  D         2      31397                7.0   \n",
       "4         S                  D         2      31397                7.0   \n",
       "\n",
       "  Type of Admission Severity of Illness  Visitors with Patient    Age  \\\n",
       "0         Emergency             Extreme                      2  51-60   \n",
       "1            Trauma             Extreme                      2  51-60   \n",
       "2            Trauma             Extreme                      2  51-60   \n",
       "3            Trauma             Extreme                      2  51-60   \n",
       "4            Trauma             Extreme                      2  51-60   \n",
       "\n",
       "   Admission_Deposit   Stay          newcolumn Age_group number_of_visits  \\\n",
       "0             4911.0   0-10     within 10 Days  Above 60              -20   \n",
       "1             5954.0  41-50  More than a month  Above 60              -20   \n",
       "2             4745.0  31-40  More than a month  Above 60              -20   \n",
       "3             7272.0  41-50  More than a month  Above 60              -20   \n",
       "4             5558.0  41-50  More than a month  Above 60              -20   \n",
       "\n",
       "  number_of_rooms  \n",
       "0             -10  \n",
       "1             -10  \n",
       "2             -10  \n",
       "3             -10  \n",
       "4             -10  "
      ]
     },
     "execution_count": 131,
     "metadata": {},
     "output_type": "execute_result"
    }
   ],
   "source": [
    "df.head()"
   ]
  },
  {
   "cell_type": "code",
   "execution_count": 24,
   "metadata": {},
   "outputs": [
    {
     "data": {
      "text/plain": [
       "Index(['case_id', 'Hospital_code', 'Hospital_type_code', 'City_Code_Hospital',\n",
       "       'Hospital_region_code', 'Available Extra Rooms in Hospital',\n",
       "       'Department', 'Ward_Type', 'Ward_Facility_Code', 'Bed Grade',\n",
       "       'patientid', 'City_Code_Patient', 'Type of Admission',\n",
       "       'Severity of Illness', 'Visitors with Patient', 'Age',\n",
       "       'Admission_Deposit', 'Stay', 'Age_group', 'newcolumn',\n",
       "       'Number_of_extrarooms', 'Number_of_visitors', 'number_of_visits'],\n",
       "      dtype='object')"
      ]
     },
     "execution_count": 24,
     "metadata": {},
     "output_type": "execute_result"
    }
   ],
   "source": [
    "df.columns"
   ]
  },
  {
   "cell_type": "code",
   "execution_count": 26,
   "metadata": {},
   "outputs": [],
   "source": [
    "df1 = df.drop(['newcolumn','Stay','Admission_Deposit','Available Extra Rooms in Hospital','Age',\n",
    "               'Visitors with Patient','Hospital_code','case_id','Hospital_region_code','City_Code_Hospital'],axis =1 )"
   ]
  },
  {
   "cell_type": "code",
   "execution_count": 27,
   "metadata": {},
   "outputs": [],
   "source": [
    "le = LabelEncoder()\n",
    "le1 = LabelEncoder()\n",
    "df1['Hospital_type_code'] = le.fit_transform(df1['Hospital_type_code'])\n",
    "df1['Number_of_extrarooms'] = le.fit_transform(df1['Number_of_extrarooms'])\n",
    "df1['Number_of_visitors'] = le.fit_transform(df1['Number_of_visitors'])\n",
    "df1['Department'] = le.fit_transform(df1['Department'])\n",
    "df1['Ward_Type'] = le.fit_transform(df1['Ward_Type'])\n",
    "df1['Ward_Facility_Code'] = le.fit_transform(df1['Ward_Facility_Code'])\n",
    "df1['Type of Admission'] = le.fit_transform(df1['Type of Admission'])\n",
    "#encoder = OrdinalEncoder(categories = [['Minor','Moderate','Extreme']])\n",
    "#df1['Severity of Illness'] = encoder.fit_transform(df1['Severity of Illness'].values.reshape(-1, 1))\n",
    "df1['Severity of Illness'] = le.fit_transform(df1['Severity of Illness'])\n",
    "df1['Age_group'] = le.fit_transform(df1['Age_group'])\n",
    "#df1['grouped'] = le.fit_transform(df1['grouped'])\n",
    "#train_df['Stay'] = le1.fit_transform(train_df['Stay'])"
   ]
  },
  {
   "cell_type": "code",
   "execution_count": 28,
   "metadata": {},
   "outputs": [
    {
     "data": {
      "text/html": [
       "<div>\n",
       "<style scoped>\n",
       "    .dataframe tbody tr th:only-of-type {\n",
       "        vertical-align: middle;\n",
       "    }\n",
       "\n",
       "    .dataframe tbody tr th {\n",
       "        vertical-align: top;\n",
       "    }\n",
       "\n",
       "    .dataframe thead th {\n",
       "        text-align: right;\n",
       "    }\n",
       "</style>\n",
       "<table border=\"1\" class=\"dataframe\">\n",
       "  <thead>\n",
       "    <tr style=\"text-align: right;\">\n",
       "      <th></th>\n",
       "      <th>Hospital_type_code</th>\n",
       "      <th>Department</th>\n",
       "      <th>Ward_Type</th>\n",
       "      <th>Ward_Facility_Code</th>\n",
       "      <th>Bed Grade</th>\n",
       "      <th>patientid</th>\n",
       "      <th>City_Code_Patient</th>\n",
       "      <th>Type of Admission</th>\n",
       "      <th>Severity of Illness</th>\n",
       "      <th>Age_group</th>\n",
       "      <th>Number_of_extrarooms</th>\n",
       "      <th>Number_of_visitors</th>\n",
       "      <th>number_of_visits</th>\n",
       "    </tr>\n",
       "  </thead>\n",
       "  <tbody>\n",
       "    <tr>\n",
       "      <th>0</th>\n",
       "      <td>2</td>\n",
       "      <td>3</td>\n",
       "      <td>2</td>\n",
       "      <td>5</td>\n",
       "      <td>2</td>\n",
       "      <td>31397</td>\n",
       "      <td>7.0</td>\n",
       "      <td>0</td>\n",
       "      <td>0</td>\n",
       "      <td>3</td>\n",
       "      <td>1</td>\n",
       "      <td>0</td>\n",
       "      <td>-20</td>\n",
       "    </tr>\n",
       "    <tr>\n",
       "      <th>1</th>\n",
       "      <td>2</td>\n",
       "      <td>3</td>\n",
       "      <td>3</td>\n",
       "      <td>5</td>\n",
       "      <td>2</td>\n",
       "      <td>31397</td>\n",
       "      <td>7.0</td>\n",
       "      <td>1</td>\n",
       "      <td>0</td>\n",
       "      <td>3</td>\n",
       "      <td>1</td>\n",
       "      <td>0</td>\n",
       "      <td>-20</td>\n",
       "    </tr>\n",
       "    <tr>\n",
       "      <th>2</th>\n",
       "      <td>4</td>\n",
       "      <td>1</td>\n",
       "      <td>3</td>\n",
       "      <td>4</td>\n",
       "      <td>2</td>\n",
       "      <td>31397</td>\n",
       "      <td>7.0</td>\n",
       "      <td>1</td>\n",
       "      <td>0</td>\n",
       "      <td>3</td>\n",
       "      <td>1</td>\n",
       "      <td>0</td>\n",
       "      <td>-20</td>\n",
       "    </tr>\n",
       "    <tr>\n",
       "      <th>3</th>\n",
       "      <td>1</td>\n",
       "      <td>3</td>\n",
       "      <td>2</td>\n",
       "      <td>3</td>\n",
       "      <td>2</td>\n",
       "      <td>31397</td>\n",
       "      <td>7.0</td>\n",
       "      <td>1</td>\n",
       "      <td>0</td>\n",
       "      <td>3</td>\n",
       "      <td>1</td>\n",
       "      <td>0</td>\n",
       "      <td>-20</td>\n",
       "    </tr>\n",
       "    <tr>\n",
       "      <th>4</th>\n",
       "      <td>1</td>\n",
       "      <td>3</td>\n",
       "      <td>3</td>\n",
       "      <td>3</td>\n",
       "      <td>2</td>\n",
       "      <td>31397</td>\n",
       "      <td>7.0</td>\n",
       "      <td>1</td>\n",
       "      <td>0</td>\n",
       "      <td>3</td>\n",
       "      <td>1</td>\n",
       "      <td>0</td>\n",
       "      <td>-20</td>\n",
       "    </tr>\n",
       "    <tr>\n",
       "      <th>...</th>\n",
       "      <td>...</td>\n",
       "      <td>...</td>\n",
       "      <td>...</td>\n",
       "      <td>...</td>\n",
       "      <td>...</td>\n",
       "      <td>...</td>\n",
       "      <td>...</td>\n",
       "      <td>...</td>\n",
       "      <td>...</td>\n",
       "      <td>...</td>\n",
       "      <td>...</td>\n",
       "      <td>...</td>\n",
       "      <td>...</td>\n",
       "    </tr>\n",
       "    <tr>\n",
       "      <th>318433</th>\n",
       "      <td>0</td>\n",
       "      <td>3</td>\n",
       "      <td>1</td>\n",
       "      <td>5</td>\n",
       "      <td>4</td>\n",
       "      <td>86499</td>\n",
       "      <td>23.0</td>\n",
       "      <td>0</td>\n",
       "      <td>2</td>\n",
       "      <td>2</td>\n",
       "      <td>1</td>\n",
       "      <td>0</td>\n",
       "      <td>-20</td>\n",
       "    </tr>\n",
       "    <tr>\n",
       "      <th>318434</th>\n",
       "      <td>0</td>\n",
       "      <td>1</td>\n",
       "      <td>1</td>\n",
       "      <td>4</td>\n",
       "      <td>4</td>\n",
       "      <td>325</td>\n",
       "      <td>8.0</td>\n",
       "      <td>2</td>\n",
       "      <td>2</td>\n",
       "      <td>3</td>\n",
       "      <td>1</td>\n",
       "      <td>0</td>\n",
       "      <td>-20</td>\n",
       "    </tr>\n",
       "    <tr>\n",
       "      <th>318435</th>\n",
       "      <td>0</td>\n",
       "      <td>2</td>\n",
       "      <td>2</td>\n",
       "      <td>5</td>\n",
       "      <td>4</td>\n",
       "      <td>125235</td>\n",
       "      <td>10.0</td>\n",
       "      <td>0</td>\n",
       "      <td>1</td>\n",
       "      <td>3</td>\n",
       "      <td>1</td>\n",
       "      <td>0</td>\n",
       "      <td>-20</td>\n",
       "    </tr>\n",
       "    <tr>\n",
       "      <th>318436</th>\n",
       "      <td>1</td>\n",
       "      <td>1</td>\n",
       "      <td>1</td>\n",
       "      <td>3</td>\n",
       "      <td>3</td>\n",
       "      <td>91081</td>\n",
       "      <td>8.0</td>\n",
       "      <td>1</td>\n",
       "      <td>1</td>\n",
       "      <td>0</td>\n",
       "      <td>1</td>\n",
       "      <td>0</td>\n",
       "      <td>-20</td>\n",
       "    </tr>\n",
       "    <tr>\n",
       "      <th>318437</th>\n",
       "      <td>0</td>\n",
       "      <td>2</td>\n",
       "      <td>1</td>\n",
       "      <td>2</td>\n",
       "      <td>2</td>\n",
       "      <td>21641</td>\n",
       "      <td>8.0</td>\n",
       "      <td>0</td>\n",
       "      <td>1</td>\n",
       "      <td>0</td>\n",
       "      <td>1</td>\n",
       "      <td>0</td>\n",
       "      <td>-20</td>\n",
       "    </tr>\n",
       "  </tbody>\n",
       "</table>\n",
       "<p>318438 rows × 13 columns</p>\n",
       "</div>"
      ],
      "text/plain": [
       "        Hospital_type_code  Department  Ward_Type  Ward_Facility_Code  \\\n",
       "0                        2           3          2                   5   \n",
       "1                        2           3          3                   5   \n",
       "2                        4           1          3                   4   \n",
       "3                        1           3          2                   3   \n",
       "4                        1           3          3                   3   \n",
       "...                    ...         ...        ...                 ...   \n",
       "318433                   0           3          1                   5   \n",
       "318434                   0           1          1                   4   \n",
       "318435                   0           2          2                   5   \n",
       "318436                   1           1          1                   3   \n",
       "318437                   0           2          1                   2   \n",
       "\n",
       "       Bed Grade  patientid  City_Code_Patient  Type of Admission  \\\n",
       "0              2      31397                7.0                  0   \n",
       "1              2      31397                7.0                  1   \n",
       "2              2      31397                7.0                  1   \n",
       "3              2      31397                7.0                  1   \n",
       "4              2      31397                7.0                  1   \n",
       "...          ...        ...                ...                ...   \n",
       "318433         4      86499               23.0                  0   \n",
       "318434         4        325                8.0                  2   \n",
       "318435         4     125235               10.0                  0   \n",
       "318436         3      91081                8.0                  1   \n",
       "318437         2      21641                8.0                  0   \n",
       "\n",
       "        Severity of Illness  Age_group  Number_of_extrarooms  \\\n",
       "0                         0          3                     1   \n",
       "1                         0          3                     1   \n",
       "2                         0          3                     1   \n",
       "3                         0          3                     1   \n",
       "4                         0          3                     1   \n",
       "...                     ...        ...                   ...   \n",
       "318433                    2          2                     1   \n",
       "318434                    2          3                     1   \n",
       "318435                    1          3                     1   \n",
       "318436                    1          0                     1   \n",
       "318437                    1          0                     1   \n",
       "\n",
       "        Number_of_visitors number_of_visits  \n",
       "0                        0              -20  \n",
       "1                        0              -20  \n",
       "2                        0              -20  \n",
       "3                        0              -20  \n",
       "4                        0              -20  \n",
       "...                    ...              ...  \n",
       "318433                   0              -20  \n",
       "318434                   0              -20  \n",
       "318435                   0              -20  \n",
       "318436                   0              -20  \n",
       "318437                   0              -20  \n",
       "\n",
       "[318438 rows x 13 columns]"
      ]
     },
     "execution_count": 28,
     "metadata": {},
     "output_type": "execute_result"
    }
   ],
   "source": [
    "df1"
   ]
  },
  {
   "cell_type": "code",
   "execution_count": null,
   "metadata": {},
   "outputs": [],
   "source": []
  },
  {
   "cell_type": "code",
   "execution_count": 30,
   "metadata": {},
   "outputs": [],
   "source": [
    "df1 = df1.drop(['patientid','number_of_visits','City_Code_Patient'],axis=1)"
   ]
  },
  {
   "cell_type": "code",
   "execution_count": 31,
   "metadata": {},
   "outputs": [],
   "source": [
    "#df2 = df[['Available Extra Rooms in Hospital','Visitors with Patient','Admission_Deposit']]"
   ]
  },
  {
   "cell_type": "code",
   "execution_count": 32,
   "metadata": {},
   "outputs": [],
   "source": [
    "#X = df1.merge(df2, how='outer', left_index=True, right_index=True)"
   ]
  },
  {
   "cell_type": "code",
   "execution_count": 33,
   "metadata": {},
   "outputs": [],
   "source": [
    "X  = df1"
   ]
  },
  {
   "cell_type": "code",
   "execution_count": 34,
   "metadata": {},
   "outputs": [
    {
     "data": {
      "text/html": [
       "<div>\n",
       "<style scoped>\n",
       "    .dataframe tbody tr th:only-of-type {\n",
       "        vertical-align: middle;\n",
       "    }\n",
       "\n",
       "    .dataframe tbody tr th {\n",
       "        vertical-align: top;\n",
       "    }\n",
       "\n",
       "    .dataframe thead th {\n",
       "        text-align: right;\n",
       "    }\n",
       "</style>\n",
       "<table border=\"1\" class=\"dataframe\">\n",
       "  <thead>\n",
       "    <tr style=\"text-align: right;\">\n",
       "      <th></th>\n",
       "      <th>Hospital_type_code</th>\n",
       "      <th>Department</th>\n",
       "      <th>Ward_Type</th>\n",
       "      <th>Ward_Facility_Code</th>\n",
       "      <th>Bed Grade</th>\n",
       "      <th>Type of Admission</th>\n",
       "      <th>Severity of Illness</th>\n",
       "      <th>Age_group</th>\n",
       "      <th>Number_of_extrarooms</th>\n",
       "      <th>Number_of_visitors</th>\n",
       "    </tr>\n",
       "  </thead>\n",
       "  <tbody>\n",
       "    <tr>\n",
       "      <th>0</th>\n",
       "      <td>2</td>\n",
       "      <td>3</td>\n",
       "      <td>2</td>\n",
       "      <td>5</td>\n",
       "      <td>2</td>\n",
       "      <td>0</td>\n",
       "      <td>0</td>\n",
       "      <td>3</td>\n",
       "      <td>1</td>\n",
       "      <td>0</td>\n",
       "    </tr>\n",
       "    <tr>\n",
       "      <th>1</th>\n",
       "      <td>2</td>\n",
       "      <td>3</td>\n",
       "      <td>3</td>\n",
       "      <td>5</td>\n",
       "      <td>2</td>\n",
       "      <td>1</td>\n",
       "      <td>0</td>\n",
       "      <td>3</td>\n",
       "      <td>1</td>\n",
       "      <td>0</td>\n",
       "    </tr>\n",
       "    <tr>\n",
       "      <th>2</th>\n",
       "      <td>4</td>\n",
       "      <td>1</td>\n",
       "      <td>3</td>\n",
       "      <td>4</td>\n",
       "      <td>2</td>\n",
       "      <td>1</td>\n",
       "      <td>0</td>\n",
       "      <td>3</td>\n",
       "      <td>1</td>\n",
       "      <td>0</td>\n",
       "    </tr>\n",
       "    <tr>\n",
       "      <th>3</th>\n",
       "      <td>1</td>\n",
       "      <td>3</td>\n",
       "      <td>2</td>\n",
       "      <td>3</td>\n",
       "      <td>2</td>\n",
       "      <td>1</td>\n",
       "      <td>0</td>\n",
       "      <td>3</td>\n",
       "      <td>1</td>\n",
       "      <td>0</td>\n",
       "    </tr>\n",
       "    <tr>\n",
       "      <th>4</th>\n",
       "      <td>1</td>\n",
       "      <td>3</td>\n",
       "      <td>3</td>\n",
       "      <td>3</td>\n",
       "      <td>2</td>\n",
       "      <td>1</td>\n",
       "      <td>0</td>\n",
       "      <td>3</td>\n",
       "      <td>1</td>\n",
       "      <td>0</td>\n",
       "    </tr>\n",
       "  </tbody>\n",
       "</table>\n",
       "</div>"
      ],
      "text/plain": [
       "   Hospital_type_code  Department  Ward_Type  Ward_Facility_Code Bed Grade  \\\n",
       "0                   2           3          2                   5         2   \n",
       "1                   2           3          3                   5         2   \n",
       "2                   4           1          3                   4         2   \n",
       "3                   1           3          2                   3         2   \n",
       "4                   1           3          3                   3         2   \n",
       "\n",
       "   Type of Admission  Severity of Illness  Age_group  Number_of_extrarooms  \\\n",
       "0                  0                    0          3                     1   \n",
       "1                  1                    0          3                     1   \n",
       "2                  1                    0          3                     1   \n",
       "3                  1                    0          3                     1   \n",
       "4                  1                    0          3                     1   \n",
       "\n",
       "   Number_of_visitors  \n",
       "0                   0  \n",
       "1                   0  \n",
       "2                   0  \n",
       "3                   0  \n",
       "4                   0  "
      ]
     },
     "execution_count": 34,
     "metadata": {},
     "output_type": "execute_result"
    }
   ],
   "source": [
    "X.head()"
   ]
  },
  {
   "cell_type": "code",
   "execution_count": null,
   "metadata": {},
   "outputs": [],
   "source": []
  },
  {
   "cell_type": "code",
   "execution_count": 35,
   "metadata": {},
   "outputs": [],
   "source": [
    "y = df['newcolumn']"
   ]
  },
  {
   "cell_type": "code",
   "execution_count": 36,
   "metadata": {},
   "outputs": [],
   "source": [
    "# split into train and test sets\n",
    "X_train, X_test, y_train, y_test = train_test_split(X, y, test_size=0.20, random_state=1)"
   ]
  },
  {
   "cell_type": "code",
   "execution_count": 37,
   "metadata": {},
   "outputs": [],
   "source": [
    "fs = SelectKBest(score_func=chi2, k='all')\n",
    "fs.fit(X_train, y_train)\n",
    "X_train_fs = fs.transform(X_train)\n",
    "X_test_fs = fs.transform(X_test)"
   ]
  },
  {
   "cell_type": "code",
   "execution_count": 38,
   "metadata": {},
   "outputs": [
    {
     "name": "stdout",
     "output_type": "stream",
     "text": [
      "Feature 0: 1818.400968\n",
      "Feature 1: 50.730814\n",
      "Feature 2: 2863.313410\n",
      "Feature 3: 448.660957\n",
      "Feature 4: 748.823071\n",
      "Feature 5: 1524.156731\n",
      "Feature 6: 86.845396\n",
      "Feature 7: 769.828871\n",
      "Feature 8: 0.000918\n",
      "Feature 9: 2875.610376\n"
     ]
    }
   ],
   "source": [
    "for i in range(len(fs.scores_)):\n",
    "    print('Feature %d: %f' % (i, fs.scores_[i]))"
   ]
  },
  {
   "cell_type": "code",
   "execution_count": 39,
   "metadata": {},
   "outputs": [],
   "source": [
    "from matplotlib import pyplot"
   ]
  },
  {
   "cell_type": "code",
   "execution_count": 23,
   "metadata": {},
   "outputs": [
    {
     "data": {
      "image/png": "[encoded data removed]",
      "text/plain": [
       "<Figure size 720x648 with 1 Axes>"
      ]
     },
     "metadata": {
      "needs_background": "light"
     },
     "output_type": "display_data"
    }
   ],
   "source": [
    "plt.figure(figsize=(10,9))\n",
    "pyplot.bar([i for i in range(len(fs.scores_))], fs.scores_)\n",
    "pyplot.show()"
   ]
  },
  {
   "cell_type": "code",
   "execution_count": 40,
   "metadata": {},
   "outputs": [
    {
     "data": {
      "text/html": [
       "<div>\n",
       "<style scoped>\n",
       "    .dataframe tbody tr th:only-of-type {\n",
       "        vertical-align: middle;\n",
       "    }\n",
       "\n",
       "    .dataframe tbody tr th {\n",
       "        vertical-align: top;\n",
       "    }\n",
       "\n",
       "    .dataframe thead th {\n",
       "        text-align: right;\n",
       "    }\n",
       "</style>\n",
       "<table border=\"1\" class=\"dataframe\">\n",
       "  <thead>\n",
       "    <tr style=\"text-align: right;\">\n",
       "      <th></th>\n",
       "      <th>Hospital_type_code</th>\n",
       "      <th>Department</th>\n",
       "      <th>Ward_Type</th>\n",
       "      <th>Ward_Facility_Code</th>\n",
       "      <th>Bed Grade</th>\n",
       "      <th>Type of Admission</th>\n",
       "      <th>Severity of Illness</th>\n",
       "      <th>Age_group</th>\n",
       "      <th>Number_of_extrarooms</th>\n",
       "      <th>Number_of_visitors</th>\n",
       "    </tr>\n",
       "  </thead>\n",
       "  <tbody>\n",
       "    <tr>\n",
       "      <th>51095</th>\n",
       "      <td>1</td>\n",
       "      <td>2</td>\n",
       "      <td>2</td>\n",
       "      <td>5</td>\n",
       "      <td>2</td>\n",
       "      <td>1</td>\n",
       "      <td>2</td>\n",
       "      <td>2</td>\n",
       "      <td>1</td>\n",
       "      <td>0</td>\n",
       "    </tr>\n",
       "    <tr>\n",
       "      <th>206756</th>\n",
       "      <td>2</td>\n",
       "      <td>2</td>\n",
       "      <td>3</td>\n",
       "      <td>0</td>\n",
       "      <td>3</td>\n",
       "      <td>1</td>\n",
       "      <td>1</td>\n",
       "      <td>3</td>\n",
       "      <td>1</td>\n",
       "      <td>0</td>\n",
       "    </tr>\n",
       "  </tbody>\n",
       "</table>\n",
       "</div>"
      ],
      "text/plain": [
       "        Hospital_type_code  Department  Ward_Type  Ward_Facility_Code  \\\n",
       "51095                    1           2          2                   5   \n",
       "206756                   2           2          3                   0   \n",
       "\n",
       "       Bed Grade  Type of Admission  Severity of Illness  Age_group  \\\n",
       "51095          2                  1                    2          2   \n",
       "206756         3                  1                    1          3   \n",
       "\n",
       "        Number_of_extrarooms  Number_of_visitors  \n",
       "51095                      1                   0  \n",
       "206756                     1                   0  "
      ]
     },
     "execution_count": 40,
     "metadata": {},
     "output_type": "execute_result"
    }
   ],
   "source": [
    "X_train.head(2)"
   ]
  },
  {
   "cell_type": "code",
   "execution_count": 27,
   "metadata": {},
   "outputs": [],
   "source": [
    "X_train = X_train.drop(['Hospital_region_code','Department','Ward_Facility_Code','City_Code_Patient'],axis = 1)\n",
    "X_test = X_test.drop(['Hospital_region_code','Department','Ward_Facility_Code','City_Code_Patient'],axis = 1)"
   ]
  },
  {
   "cell_type": "code",
   "execution_count": 41,
   "metadata": {},
   "outputs": [],
   "source": [
    "#import logistic regression modules\n",
    "from sklearn.model_selection import train_test_split\n",
    "from sklearn.linear_model import LogisticRegression\n",
    "from sklearn import metrics\n",
    "from sklearn.metrics import classification_report\n",
    "import statsmodels.api as st\n",
    "from sklearn.metrics import confusion_matrix, accuracy_score"
   ]
  },
  {
   "cell_type": "code",
   "execution_count": 42,
   "metadata": {},
   "outputs": [],
   "source": [
    "model1 = LogisticRegression(random_state=0, multi_class='multinomial', penalty='none', solver='newton-cg').fit(X_train, y_train)\n"
   ]
  },
  {
   "cell_type": "code",
   "execution_count": 76,
   "metadata": {},
   "outputs": [],
   "source": [
    "#print(model1.summary())"
   ]
  },
  {
   "cell_type": "code",
   "execution_count": 44,
   "metadata": {},
   "outputs": [],
   "source": [
    "preds = model1.predict(X_test)"
   ]
  },
  {
   "cell_type": "code",
   "execution_count": 45,
   "metadata": {},
   "outputs": [
    {
     "data": {
      "text/plain": [
       "array([[ 1380,  3558, 10716,     0],\n",
       "       [ 1061,  5257, 11162,     0],\n",
       "       [ 1386,  4079, 20328,     0],\n",
       "       [  415,  1137,  3209,     0]], dtype=int64)"
      ]
     },
     "execution_count": 45,
     "metadata": {},
     "output_type": "execute_result"
    }
   ],
   "source": [
    "confusion_matrix= metrics.confusion_matrix(y_test, preds)\n",
    "confusion_matrix"
   ]
  },
  {
   "cell_type": "code",
   "execution_count": 46,
   "metadata": {},
   "outputs": [
    {
     "data": {
      "text/plain": [
       "Text(0.5, 257.44, 'Predicted label')"
      ]
     },
     "execution_count": 46,
     "metadata": {},
     "output_type": "execute_result"
    },
    {
     "data": {
      "image/png": "[encoded data removed]",
      "text/plain": [
       "<Figure size 432x288 with 2 Axes>"
      ]
     },
     "metadata": {
      "needs_background": "light"
     },
     "output_type": "display_data"
    }
   ],
   "source": [
    "fig, ax = plt.subplots()\n",
    "sns.heatmap(pd.DataFrame(confusion_matrix), annot=True, cmap=\"YlGnBu\" ,fmt='g')\n",
    "ax.xaxis.set_label_position(\"top\")\n",
    "plt.tight_layout()\n",
    "plt.title('Confusion matrix', y=1.1)\n",
    "plt.ylabel('Actual label')\n",
    "plt.xlabel('Predicted label')"
   ]
  },
  {
   "cell_type": "code",
   "execution_count": 84,
   "metadata": {},
   "outputs": [
    {
     "ename": "TypeError",
     "evalue": "'numpy.ndarray' object is not callable",
     "output_type": "error",
     "traceback": [
      "\u001b[1;31m---------------------------------------------------------------------------\u001b[0m",
      "\u001b[1;31mTypeError\u001b[0m                                 Traceback (most recent call last)",
      "\u001b[1;32m<ipython-input-84-b93981c8501d>\u001b[0m in \u001b[0;36m<module>\u001b[1;34m\u001b[0m\n\u001b[1;32m----> 1\u001b[1;33m \u001b[0mconfmtrx\u001b[0m \u001b[1;33m=\u001b[0m \u001b[0mnp\u001b[0m\u001b[1;33m.\u001b[0m\u001b[0marray\u001b[0m\u001b[1;33m(\u001b[0m\u001b[0mconfusion_matrix\u001b[0m\u001b[1;33m(\u001b[0m\u001b[0my_test\u001b[0m\u001b[1;33m,\u001b[0m \u001b[0mpreds\u001b[0m\u001b[1;33m)\u001b[0m\u001b[1;33m)\u001b[0m\u001b[1;33m\u001b[0m\u001b[1;33m\u001b[0m\u001b[0m\n\u001b[0m",
      "\u001b[1;31mTypeError\u001b[0m: 'numpy.ndarray' object is not callable"
     ]
    }
   ],
   "source": [
    "confmtrx = np.array(confusion_matrix(y_test, preds))"
   ]
  },
  {
   "cell_type": "code",
   "execution_count": 47,
   "metadata": {},
   "outputs": [
    {
     "name": "stderr",
     "output_type": "stream",
     "text": [
      "C:\\Users\\cofos\\anaconda3\\lib\\site-packages\\sklearn\\metrics\\_classification.py:1221: UndefinedMetricWarning: Precision and F-score are ill-defined and being set to 0.0 in labels with no predicted samples. Use `zero_division` parameter to control this behavior.\n",
      "  _warn_prf(average, modifier, msg_start, len(result))\n"
     ]
    },
    {
     "name": "stdout",
     "output_type": "stream",
     "text": [
      "                   precision    recall  f1-score   support\n",
      "\n",
      "        14-21days       0.33      0.09      0.14     15654\n",
      "     3weeks-month       0.37      0.30      0.33     17480\n",
      "More than a month       0.45      0.79      0.57     25793\n",
      "   within 10 Days       0.00      0.00      0.00      4761\n",
      "\n",
      "         accuracy                           0.42     63688\n",
      "        macro avg       0.29      0.29      0.26     63688\n",
      "     weighted avg       0.36      0.42      0.36     63688\n",
      "\n"
     ]
    }
   ],
   "source": [
    "classi_report=classification_report(y_test, preds)\n",
    "print(classi_report)"
   ]
  },
  {
   "cell_type": "code",
   "execution_count": 86,
   "metadata": {},
   "outputs": [
    {
     "data": {
      "text/plain": [
       "More than a month    129204\n",
       "3weeks-month          87491\n",
       "14-21days             78139\n",
       "within 10 Days        23604\n",
       "Name: newcolumn, dtype: int64"
      ]
     },
     "execution_count": 86,
     "metadata": {},
     "output_type": "execute_result"
    }
   ],
   "source": [
    "Y.value_counts()"
   ]
  },
  {
   "cell_type": "code",
   "execution_count": 62,
   "metadata": {},
   "outputs": [],
   "source": [
    "df2 = df.drop(['newcolumn','Stay','Admission_Deposit','Available Extra Rooms in Hospital','Age',\n",
    "               'Visitors with Patient','Hospital_code','case_id','Hospital_region_code','City_Code_Hospital'],axis =1)"
   ]
  },
  {
   "cell_type": "code",
   "execution_count": 85,
   "metadata": {},
   "outputs": [
    {
     "data": {
      "text/plain": [
       "array([[ 1380,  3558, 10716,     0],\n",
       "       [ 1061,  5257, 11162,     0],\n",
       "       [ 1386,  4079, 20328,     0],\n",
       "       [  415,  1137,  3209,     0]], dtype=int64)"
      ]
     },
     "execution_count": 85,
     "metadata": {},
     "output_type": "execute_result"
    }
   ],
   "source": [
    "confmtrx = np.array(metrics.confusion_matrix(y_test, preds))\n",
    "confmtrx"
   ]
  },
  {
   "cell_type": "code",
   "execution_count": 87,
   "metadata": {},
   "outputs": [
    {
     "data": {
      "text/html": [
       "<div>\n",
       "<style scoped>\n",
       "    .dataframe tbody tr th:only-of-type {\n",
       "        vertical-align: middle;\n",
       "    }\n",
       "\n",
       "    .dataframe tbody tr th {\n",
       "        vertical-align: top;\n",
       "    }\n",
       "\n",
       "    .dataframe thead th {\n",
       "        text-align: right;\n",
       "    }\n",
       "</style>\n",
       "<table border=\"1\" class=\"dataframe\">\n",
       "  <thead>\n",
       "    <tr style=\"text-align: right;\">\n",
       "      <th></th>\n",
       "      <th>predicted_More than a month</th>\n",
       "      <th>predicted_3weeks-month</th>\n",
       "      <th>predicted_14-21days</th>\n",
       "      <th>predicted_within 10 Days</th>\n",
       "    </tr>\n",
       "  </thead>\n",
       "  <tbody>\n",
       "    <tr>\n",
       "      <th>More than a month</th>\n",
       "      <td>1380</td>\n",
       "      <td>3558</td>\n",
       "      <td>10716</td>\n",
       "      <td>0</td>\n",
       "    </tr>\n",
       "    <tr>\n",
       "      <th>3weeks-month</th>\n",
       "      <td>1061</td>\n",
       "      <td>5257</td>\n",
       "      <td>11162</td>\n",
       "      <td>0</td>\n",
       "    </tr>\n",
       "    <tr>\n",
       "      <th>14-21days</th>\n",
       "      <td>1386</td>\n",
       "      <td>4079</td>\n",
       "      <td>20328</td>\n",
       "      <td>0</td>\n",
       "    </tr>\n",
       "    <tr>\n",
       "      <th>within 10 Days</th>\n",
       "      <td>415</td>\n",
       "      <td>1137</td>\n",
       "      <td>3209</td>\n",
       "      <td>0</td>\n",
       "    </tr>\n",
       "  </tbody>\n",
       "</table>\n",
       "</div>"
      ],
      "text/plain": [
       "                   predicted_More than a month  predicted_3weeks-month  \\\n",
       "More than a month                         1380                    3558   \n",
       "3weeks-month                              1061                    5257   \n",
       "14-21days                                 1386                    4079   \n",
       "within 10 Days                             415                    1137   \n",
       "\n",
       "                   predicted_14-21days  predicted_within 10 Days  \n",
       "More than a month                10716                         0  \n",
       "3weeks-month                     11162                         0  \n",
       "14-21days                        20328                         0  \n",
       "within 10 Days                    3209                         0  "
      ]
     },
     "execution_count": 87,
     "metadata": {},
     "output_type": "execute_result"
    }
   ],
   "source": [
    "pd.DataFrame(confmtrx, index=['More than a month','3weeks-month', '14-21days','within 10 Days'],\n",
    "columns=['predicted_More than a month', 'predicted_3weeks-month','predicted_14-21days','predicted_within 10 Days'])"
   ]
  },
  {
   "cell_type": "code",
   "execution_count": 88,
   "metadata": {},
   "outputs": [
    {
     "name": "stdout",
     "output_type": "stream",
     "text": [
      "Accuracy Score: 0.42339216178872\n"
     ]
    }
   ],
   "source": [
    "print('Accuracy Score:', metrics.accuracy_score(y_test, preds))  "
   ]
  },
  {
   "cell_type": "code",
   "execution_count": 77,
   "metadata": {},
   "outputs": [],
   "source": [
    "x = pd.get_dummies(df1,drop_first=True)"
   ]
  },
  {
   "cell_type": "code",
   "execution_count": 78,
   "metadata": {},
   "outputs": [
    {
     "data": {
      "text/html": [
       "<div>\n",
       "<style scoped>\n",
       "    .dataframe tbody tr th:only-of-type {\n",
       "        vertical-align: middle;\n",
       "    }\n",
       "\n",
       "    .dataframe tbody tr th {\n",
       "        vertical-align: top;\n",
       "    }\n",
       "\n",
       "    .dataframe thead th {\n",
       "        text-align: right;\n",
       "    }\n",
       "</style>\n",
       "<table border=\"1\" class=\"dataframe\">\n",
       "  <thead>\n",
       "    <tr style=\"text-align: right;\">\n",
       "      <th></th>\n",
       "      <th>Hospital_type_code</th>\n",
       "      <th>Department</th>\n",
       "      <th>Ward_Type</th>\n",
       "      <th>Ward_Facility_Code</th>\n",
       "      <th>Type of Admission</th>\n",
       "      <th>Severity of Illness</th>\n",
       "      <th>Age_group</th>\n",
       "      <th>Number_of_extrarooms</th>\n",
       "      <th>Number_of_visitors</th>\n",
       "      <th>Bed Grade_2.0</th>\n",
       "      <th>Bed Grade_3.0</th>\n",
       "      <th>Bed Grade_4.0</th>\n",
       "      <th>Bed Grade_2</th>\n",
       "    </tr>\n",
       "  </thead>\n",
       "  <tbody>\n",
       "    <tr>\n",
       "      <th>0</th>\n",
       "      <td>2</td>\n",
       "      <td>3</td>\n",
       "      <td>2</td>\n",
       "      <td>5</td>\n",
       "      <td>0</td>\n",
       "      <td>0</td>\n",
       "      <td>3</td>\n",
       "      <td>1</td>\n",
       "      <td>0</td>\n",
       "      <td>1</td>\n",
       "      <td>0</td>\n",
       "      <td>0</td>\n",
       "      <td>0</td>\n",
       "    </tr>\n",
       "    <tr>\n",
       "      <th>1</th>\n",
       "      <td>2</td>\n",
       "      <td>3</td>\n",
       "      <td>3</td>\n",
       "      <td>5</td>\n",
       "      <td>1</td>\n",
       "      <td>0</td>\n",
       "      <td>3</td>\n",
       "      <td>1</td>\n",
       "      <td>0</td>\n",
       "      <td>1</td>\n",
       "      <td>0</td>\n",
       "      <td>0</td>\n",
       "      <td>0</td>\n",
       "    </tr>\n",
       "    <tr>\n",
       "      <th>2</th>\n",
       "      <td>4</td>\n",
       "      <td>1</td>\n",
       "      <td>3</td>\n",
       "      <td>4</td>\n",
       "      <td>1</td>\n",
       "      <td>0</td>\n",
       "      <td>3</td>\n",
       "      <td>1</td>\n",
       "      <td>0</td>\n",
       "      <td>1</td>\n",
       "      <td>0</td>\n",
       "      <td>0</td>\n",
       "      <td>0</td>\n",
       "    </tr>\n",
       "    <tr>\n",
       "      <th>3</th>\n",
       "      <td>1</td>\n",
       "      <td>3</td>\n",
       "      <td>2</td>\n",
       "      <td>3</td>\n",
       "      <td>1</td>\n",
       "      <td>0</td>\n",
       "      <td>3</td>\n",
       "      <td>1</td>\n",
       "      <td>0</td>\n",
       "      <td>1</td>\n",
       "      <td>0</td>\n",
       "      <td>0</td>\n",
       "      <td>0</td>\n",
       "    </tr>\n",
       "    <tr>\n",
       "      <th>4</th>\n",
       "      <td>1</td>\n",
       "      <td>3</td>\n",
       "      <td>3</td>\n",
       "      <td>3</td>\n",
       "      <td>1</td>\n",
       "      <td>0</td>\n",
       "      <td>3</td>\n",
       "      <td>1</td>\n",
       "      <td>0</td>\n",
       "      <td>1</td>\n",
       "      <td>0</td>\n",
       "      <td>0</td>\n",
       "      <td>0</td>\n",
       "    </tr>\n",
       "  </tbody>\n",
       "</table>\n",
       "</div>"
      ],
      "text/plain": [
       "   Hospital_type_code  Department  Ward_Type  Ward_Facility_Code  \\\n",
       "0                   2           3          2                   5   \n",
       "1                   2           3          3                   5   \n",
       "2                   4           1          3                   4   \n",
       "3                   1           3          2                   3   \n",
       "4                   1           3          3                   3   \n",
       "\n",
       "   Type of Admission  Severity of Illness  Age_group  Number_of_extrarooms  \\\n",
       "0                  0                    0          3                     1   \n",
       "1                  1                    0          3                     1   \n",
       "2                  1                    0          3                     1   \n",
       "3                  1                    0          3                     1   \n",
       "4                  1                    0          3                     1   \n",
       "\n",
       "   Number_of_visitors  Bed Grade_2.0  Bed Grade_3.0  Bed Grade_4.0  \\\n",
       "0                   0              1              0              0   \n",
       "1                   0              1              0              0   \n",
       "2                   0              1              0              0   \n",
       "3                   0              1              0              0   \n",
       "4                   0              1              0              0   \n",
       "\n",
       "   Bed Grade_2  \n",
       "0            0  \n",
       "1            0  \n",
       "2            0  \n",
       "3            0  \n",
       "4            0  "
      ]
     },
     "execution_count": 78,
     "metadata": {},
     "output_type": "execute_result"
    }
   ],
   "source": [
    "x.head()"
   ]
  },
  {
   "cell_type": "code",
   "execution_count": 79,
   "metadata": {},
   "outputs": [],
   "source": [
    "Y = df['newcolumn']."
   ]
  },
  {
   "cell_type": "code",
   "execution_count": 80,
   "metadata": {},
   "outputs": [],
   "source": [
    "# split into train and test sets\n",
    "x_train, x_test, Y_train, Y_test = train_test_split(x, Y, test_size=0.20, random_state=1)"
   ]
  },
  {
   "cell_type": "code",
   "execution_count": 81,
   "metadata": {},
   "outputs": [
    {
     "data": {
      "text/plain": [
       "<statsmodels.discrete.discrete_model.MNLogit at 0x2a1d76e0280>"
      ]
     },
     "execution_count": 81,
     "metadata": {},
     "output_type": "execute_result"
    }
   ],
   "source": [
    "logit_model=st.MNLogit(Y_train,st.add_constant(x_train))\n",
    "logit_model"
   ]
  },
  {
   "cell_type": "code",
   "execution_count": 82,
   "metadata": {},
   "outputs": [
    {
     "name": "stdout",
     "output_type": "stream",
     "text": [
      "Warning: Maximum number of iterations has been exceeded.\n",
      "         Current function value: 1.216391\n",
      "         Iterations: 35\n"
     ]
    },
    {
     "name": "stderr",
     "output_type": "stream",
     "text": [
      "C:\\Users\\cofos\\anaconda3\\lib\\site-packages\\statsmodels\\base\\model.py:567: ConvergenceWarning: Maximum Likelihood optimization failed to converge. Check mle_retvals\n",
      "  warn(\"Maximum Likelihood optimization failed to converge. \"\n"
     ]
    }
   ],
   "source": [
    "result=logit_model.fit()"
   ]
  },
  {
   "cell_type": "code",
   "execution_count": 83,
   "metadata": {},
   "outputs": [
    {
     "name": "stdout",
     "output_type": "stream",
     "text": [
      "                          MNLogit Regression Results                          \n",
      "==============================================================================\n",
      "Dep. Variable:              newcolumn   No. Observations:               254750\n",
      "Model:                        MNLogit   Df Residuals:                   254708\n",
      "Method:                           MLE   Df Model:                           39\n",
      "Date:                Wed, 23 Sep 2020   Pseudo R-squ.:                 0.03328\n",
      "Time:                        08:21:35   Log-Likelihood:            -3.0988e+05\n",
      "converged:                      False   LL-Null:                   -3.2054e+05\n",
      "Covariance Type:            nonrobust   LLR p-value:                     0.000\n",
      "============================================================================================\n",
      "     newcolumn=3weeks-month       coef    std err          z      P>|z|      [0.025      0.975]\n",
      "-----------------------------------------------------------------------------------------------\n",
      "const                           0.2290      0.444      0.515      0.606      -0.642       1.100\n",
      "Hospital_type_code              0.0373      0.004      9.287      0.000       0.029       0.045\n",
      "Department                     -0.0288      0.010     -2.893      0.004      -0.048      -0.009\n",
      "Ward_Type                      -0.1293      0.007    -17.755      0.000      -0.144      -0.115\n",
      "Ward_Facility_Code              0.0392      0.003     11.278      0.000       0.032       0.046\n",
      "Type of Admission               0.2338      0.008     28.469      0.000       0.218       0.250\n",
      "Severity of Illness             0.0041      0.007      0.545      0.586      -0.011       0.019\n",
      "Age_group                       0.0762      0.006     13.774      0.000       0.065       0.087\n",
      "Number_of_extrarooms           -0.0974      0.442     -0.220      0.826      -0.965       0.770\n",
      "Number_of_visitors             16.3473    703.973      0.023      0.981   -1363.414    1396.109\n",
      "Bed Grade_2.0                   0.1494      0.022      6.714      0.000       0.106       0.193\n",
      "Bed Grade_3.0                  -0.5723      0.022    -25.519      0.000      -0.616      -0.528\n",
      "Bed Grade_4.0                  -0.6144      0.024    -25.191      0.000      -0.662      -0.567\n",
      "Bed Grade_2                     0.2348      0.315      0.746      0.455      -0.382       0.851\n",
      "-----------------------------------------------------------------------------------------------\n",
      "newcolumn=More than a month       coef    std err          z      P>|z|      [0.025      0.975]\n",
      "-----------------------------------------------------------------------------------------------\n",
      "const                          -1.7058      0.436     -3.909      0.000      -2.561      -0.850\n",
      "Hospital_type_code              0.0494      0.004     13.635      0.000       0.042       0.057\n",
      "Department                      0.1186      0.009     12.863      0.000       0.101       0.137\n",
      "Ward_Type                       0.4099      0.007     60.862      0.000       0.397       0.423\n",
      "Ward_Facility_Code              0.0333      0.003     10.421      0.000       0.027       0.040\n",
      "Type of Admission               0.1074      0.008     14.022      0.000       0.092       0.122\n",
      "Severity of Illness            -0.0565      0.007     -8.148      0.000      -0.070      -0.043\n",
      "Age_group                       0.1666      0.005     32.555      0.000       0.157       0.177\n",
      "Number_of_extrarooms            0.8554      0.435      1.968      0.049       0.003       1.707\n",
      "Number_of_visitors             20.2944    703.973      0.029      0.977   -1359.467    1400.056\n",
      "Bed Grade_2.0                  -0.0590      0.021     -2.807      0.005      -0.100      -0.018\n",
      "Bed Grade_3.0                  -0.3003      0.021    -14.441      0.000      -0.341      -0.260\n",
      "Bed Grade_4.0                  -0.2576      0.022    -11.517      0.000      -0.301      -0.214\n",
      "Bed Grade_2                     0.5534      0.290      1.906      0.057      -0.016       1.122\n",
      "-----------------------------------------------------------------------------------------------\n",
      "newcolumn=within 10 Days       coef    std err          z      P>|z|      [0.025      0.975]\n",
      "--------------------------------------------------------------------------------------------\n",
      "const                       -0.1945      0.852     -0.228      0.819      -1.864       1.475\n",
      "Hospital_type_code           0.0449      0.006      7.694      0.000       0.033       0.056\n",
      "Department                   0.0805      0.015      5.271      0.000       0.051       0.110\n",
      "Ward_Type                    0.0519      0.011      4.842      0.000       0.031       0.073\n",
      "Ward_Facility_Code          -0.0489      0.005     -9.564      0.000      -0.059      -0.039\n",
      "Type of Admission           -0.4050      0.013    -30.977      0.000      -0.431      -0.379\n",
      "Severity of Illness         -0.0134      0.011     -1.193      0.233      -0.035       0.009\n",
      "Age_group                   -0.0344      0.008     -4.182      0.000      -0.051      -0.018\n",
      "Number_of_extrarooms        -0.5953      0.850     -0.700      0.484      -2.261       1.071\n",
      "Number_of_visitors         -16.1826   4.44e+06  -3.64e-06      1.000   -8.71e+06    8.71e+06\n",
      "Bed Grade_2.0               -0.0524      0.031     -1.665      0.096      -0.114       0.009\n",
      "Bed Grade_3.0               -0.3592      0.032    -11.336      0.000      -0.421      -0.297\n",
      "Bed Grade_4.0               -0.3144      0.035     -9.069      0.000      -0.382      -0.246\n",
      "Bed Grade_2                 -1.0375      0.751     -1.382      0.167      -2.509       0.434\n",
      "============================================================================================\n",
      "                                  Results: MNLogit\n",
      "=====================================================================================\n",
      "Model:                     MNLogit                Pseudo R-squared:       0.033      \n",
      "Dependent Variable:        newcolumn              AIC:                    619835.0052\n",
      "Date:                      2020-09-23 08:21       BIC:                    620273.8228\n",
      "No. Observations:          254750                 Log-Likelihood:         -3.0988e+05\n",
      "Df Model:                  39                     LL-Null:                -3.2054e+05\n",
      "Df Residuals:              254708                 LLR p-value:            0.0000     \n",
      "Converged:                 0.0000                 Scale:                  1.0000     \n",
      "No. Iterations:            35.0000                                                   \n",
      "-------------------------------------------------------------------------------------\n",
      "      newcolumn = 0         Coef.   Std.Err.     t      P>|t|     [0.025      0.975] \n",
      "-------------------------------------------------------------------------------------\n",
      "               const        0.2290    0.4443    0.5155  0.6062     -0.6417     1.0997\n",
      "  Hospital_type_code        0.0373    0.0040    9.2872  0.0000      0.0295     0.0452\n",
      "          Department       -0.0288    0.0100   -2.8929  0.0038     -0.0483    -0.0093\n",
      "           Ward_Type       -0.1293    0.0073  -17.7550  0.0000     -0.1435    -0.1150\n",
      "  Ward_Facility_Code        0.0392    0.0035   11.2778  0.0000      0.0324     0.0461\n",
      "   Type of Admission        0.2338    0.0082   28.4687  0.0000      0.2177     0.2499\n",
      " Severity of Illness        0.0041    0.0075    0.5447  0.5859     -0.0106     0.0188\n",
      "           Age_group        0.0762    0.0055   13.7740  0.0000      0.0654     0.0871\n",
      "Number_of_extrarooms       -0.0974    0.4424   -0.2201  0.8258     -0.9646     0.7698\n",
      "  Number_of_visitors       16.3473  703.9729    0.0232  0.9815  -1363.4143  1396.1089\n",
      "       Bed Grade_2.0        0.1494    0.0223    6.7144  0.0000      0.1058     0.1930\n",
      "       Bed Grade_3.0       -0.5723    0.0224  -25.5191  0.0000     -0.6163    -0.5284\n",
      "       Bed Grade_4.0       -0.6144    0.0244  -25.1908  0.0000     -0.6622    -0.5666\n",
      "         Bed Grade_2        0.2348    0.3146    0.7463  0.4555     -0.3818     0.8513\n",
      "-------------------------------------------------------------------------------------\n",
      "      newcolumn = 1         Coef.   Std.Err.     t      P>|t|     [0.025      0.975] \n",
      "-------------------------------------------------------------------------------------\n",
      "               const       -1.7058    0.4364   -3.9087  0.0001     -2.5612    -0.8505\n",
      "  Hospital_type_code        0.0494    0.0036   13.6351  0.0000      0.0423     0.0565\n",
      "          Department        0.1186    0.0092   12.8629  0.0000      0.1006     0.1367\n",
      "           Ward_Type        0.4099    0.0067   60.8619  0.0000      0.3967     0.4231\n",
      "  Ward_Facility_Code        0.0333    0.0032   10.4207  0.0000      0.0270     0.0396\n",
      "   Type of Admission        0.1074    0.0077   14.0216  0.0000      0.0924     0.1224\n",
      " Severity of Illness       -0.0565    0.0069   -8.1479  0.0000     -0.0701    -0.0429\n",
      "           Age_group        0.1666    0.0051   32.5554  0.0000      0.1566     0.1766\n",
      "Number_of_extrarooms        0.8554    0.4347    1.9676  0.0491      0.0033     1.7075\n",
      "  Number_of_visitors       20.2944  703.9729    0.0288  0.9770  -1359.4671  1400.0560\n",
      "       Bed Grade_2.0       -0.0590    0.0210   -2.8072  0.0050     -0.1002    -0.0178\n",
      "       Bed Grade_3.0       -0.3003    0.0208  -14.4406  0.0000     -0.3411    -0.2595\n",
      "       Bed Grade_4.0       -0.2576    0.0224  -11.5169  0.0000     -0.3015    -0.2138\n",
      "         Bed Grade_2        0.5534    0.2904    1.9059  0.0567     -0.0157     1.1225\n",
      "-------------------------------------------------------------------------------------\n",
      "   newcolumn = 2      Coef.     Std.Err.      t     P>|t|      [0.025       0.975]   \n",
      "-------------------------------------------------------------------------------------\n",
      "               const  -0.1945       0.8519  -0.2283 0.8194       -1.8642       1.4752\n",
      "  Hospital_type_code   0.0449       0.0058   7.6940 0.0000        0.0335       0.0563\n",
      "          Department   0.0805       0.0153   5.2707 0.0000        0.0505       0.1104\n",
      "           Ward_Type   0.0519       0.0107   4.8422 0.0000        0.0309       0.0730\n",
      "  Ward_Facility_Code  -0.0489       0.0051  -9.5640 0.0000       -0.0589      -0.0388\n",
      "   Type of Admission  -0.4050       0.0131 -30.9766 0.0000       -0.4306      -0.3794\n",
      " Severity of Illness  -0.0134       0.0112  -1.1925 0.2330       -0.0354       0.0086\n",
      "           Age_group  -0.0344       0.0082  -4.1817 0.0000       -0.0506      -0.0183\n",
      "Number_of_extrarooms  -0.5953       0.8499  -0.7004 0.4837       -2.2612       1.0705\n",
      "  Number_of_visitors -16.1826 4444690.6377  -0.0000 1.0000 -8711449.7549 8711417.3896\n",
      "       Bed Grade_2.0  -0.0524       0.0315  -1.6655 0.0958       -0.1142       0.0093\n",
      "       Bed Grade_3.0  -0.3592       0.0317 -11.3365 0.0000       -0.4213      -0.2971\n",
      "       Bed Grade_4.0  -0.3144       0.0347  -9.0691 0.0000       -0.3823      -0.2464\n",
      "         Bed Grade_2  -1.0375       0.7509  -1.3817 0.1671       -2.5093       0.4343\n",
      "=====================================================================================\n",
      "\n"
     ]
    }
   ],
   "source": [
    "stats1=result.summary()\n",
    "stats2=result.summary2()\n",
    "print(stats1)\n",
    "print(stats2)"
   ]
  },
  {
   "cell_type": "code",
   "execution_count": 44,
   "metadata": {},
   "outputs": [],
   "source": [
    "#inference_mod = st.MNLogit(y_train, X_train)\n",
    "#mdl_fit = inference_mod.fit()"
   ]
  },
  {
   "cell_type": "code",
   "execution_count": 49,
   "metadata": {},
   "outputs": [
    {
     "data": {
      "text/plain": [
       "<matplotlib.axes._subplots.AxesSubplot at 0x249a03b04c0>"
      ]
     },
     "execution_count": 49,
     "metadata": {},
     "output_type": "execute_result"
    },
    {
     "data": {
      "image/png": "[encoded data removed]",
      "text/plain": [
       "<Figure size 1080x576 with 1 Axes>"
      ]
     },
     "metadata": {
      "needs_background": "light"
     },
     "output_type": "display_data"
    }
   ],
   "source": [
    "plt.figure(figsize=(15,8))\n",
    "sns.boxplot(x = 'newcolumn', y = 'Visitors with Patient', hue = 'Type of Admission', data = df)"
   ]
  },
  {
   "cell_type": "code",
   "execution_count": 50,
   "metadata": {},
   "outputs": [
    {
     "data": {
      "text/plain": [
       "<matplotlib.axes._subplots.AxesSubplot at 0x249a4b6ad30>"
      ]
     },
     "execution_count": 50,
     "metadata": {},
     "output_type": "execute_result"
    },
    {
     "data": {
      "image/png": "[encoded data removed]",
      "text/plain": [
       "<Figure size 1080x576 with 1 Axes>"
      ]
     },
     "metadata": {
      "needs_background": "light"
     },
     "output_type": "display_data"
    }
   ],
   "source": [
    "plt.figure(figsize=(15,8))\n",
    "sns.barplot(x = 'Visitors with Patient', y = 'newcolumn', hue = 'Severity of Illness', data = df)"
   ]
  },
  {
   "cell_type": "code",
   "execution_count": 51,
   "metadata": {},
   "outputs": [
    {
     "data": {
      "text/plain": [
       "Index(['case_id', 'Hospital_code', 'Hospital_type_code', 'City_Code_Hospital',\n",
       "       'Hospital_region_code', 'Available Extra Rooms in Hospital',\n",
       "       'Department', 'Ward_Type', 'Ward_Facility_Code', 'Bed Grade',\n",
       "       'patientid', 'City_Code_Patient', 'Type of Admission',\n",
       "       'Severity of Illness', 'Visitors with Patient', 'Age',\n",
       "       'Admission_Deposit', 'Stay', 'newcolumn', 'Age_group'],\n",
       "      dtype='object')"
      ]
     },
     "execution_count": 51,
     "metadata": {},
     "output_type": "execute_result"
    }
   ],
   "source": [
    "df.columns"
   ]
  },
  {
   "cell_type": "code",
   "execution_count": 63,
   "metadata": {},
   "outputs": [
    {
     "data": {
      "text/html": [
       "<div>\n",
       "<style scoped>\n",
       "    .dataframe tbody tr th:only-of-type {\n",
       "        vertical-align: middle;\n",
       "    }\n",
       "\n",
       "    .dataframe tbody tr th {\n",
       "        vertical-align: top;\n",
       "    }\n",
       "\n",
       "    .dataframe thead th {\n",
       "        text-align: right;\n",
       "    }\n",
       "</style>\n",
       "<table border=\"1\" class=\"dataframe\">\n",
       "  <thead>\n",
       "    <tr style=\"text-align: right;\">\n",
       "      <th>newcolumn</th>\n",
       "      <th>Department</th>\n",
       "      <th>14-21days</th>\n",
       "      <th>3weeks-month</th>\n",
       "      <th>More than a month</th>\n",
       "      <th>within 10 Days</th>\n",
       "    </tr>\n",
       "  </thead>\n",
       "  <tbody>\n",
       "    <tr>\n",
       "      <th>0</th>\n",
       "      <td>TB &amp; Chest disease</td>\n",
       "      <td>2379</td>\n",
       "      <td>2618</td>\n",
       "      <td>3798</td>\n",
       "      <td>791</td>\n",
       "    </tr>\n",
       "    <tr>\n",
       "      <th>1</th>\n",
       "      <td>anesthesia</td>\n",
       "      <td>8823</td>\n",
       "      <td>8950</td>\n",
       "      <td>10357</td>\n",
       "      <td>1519</td>\n",
       "    </tr>\n",
       "    <tr>\n",
       "      <th>2</th>\n",
       "      <td>gynecology</td>\n",
       "      <td>59690</td>\n",
       "      <td>68383</td>\n",
       "      <td>102564</td>\n",
       "      <td>18849</td>\n",
       "    </tr>\n",
       "    <tr>\n",
       "      <th>3</th>\n",
       "      <td>radiotherapy</td>\n",
       "      <td>6988</td>\n",
       "      <td>7263</td>\n",
       "      <td>11886</td>\n",
       "      <td>2379</td>\n",
       "    </tr>\n",
       "    <tr>\n",
       "      <th>4</th>\n",
       "      <td>surgery</td>\n",
       "      <td>259</td>\n",
       "      <td>277</td>\n",
       "      <td>599</td>\n",
       "      <td>66</td>\n",
       "    </tr>\n",
       "  </tbody>\n",
       "</table>\n",
       "</div>"
      ],
      "text/plain": [
       "newcolumn          Department  14-21days  3weeks-month  More than a month  \\\n",
       "0          TB & Chest disease       2379          2618               3798   \n",
       "1                  anesthesia       8823          8950              10357   \n",
       "2                  gynecology      59690         68383             102564   \n",
       "3                radiotherapy       6988          7263              11886   \n",
       "4                     surgery        259           277                599   \n",
       "\n",
       "newcolumn  within 10 Days  \n",
       "0                     791  \n",
       "1                    1519  \n",
       "2                   18849  \n",
       "3                    2379  \n",
       "4                      66  "
      ]
     },
     "execution_count": 63,
     "metadata": {},
     "output_type": "execute_result"
    }
   ],
   "source": [
    "group1 = df.groupby('Department').newcolumn.value_counts()\n",
    "group1 = group1.unstack().reset_index()\n",
    "group1.head()"
   ]
  },
  {
   "cell_type": "code",
   "execution_count": 64,
   "metadata": {},
   "outputs": [
    {
     "data": {
      "text/html": [
       "<div>\n",
       "<style scoped>\n",
       "    .dataframe tbody tr th:only-of-type {\n",
       "        vertical-align: middle;\n",
       "    }\n",
       "\n",
       "    .dataframe tbody tr th {\n",
       "        vertical-align: top;\n",
       "    }\n",
       "\n",
       "    .dataframe thead th {\n",
       "        text-align: right;\n",
       "    }\n",
       "</style>\n",
       "<table border=\"1\" class=\"dataframe\">\n",
       "  <thead>\n",
       "    <tr style=\"text-align: right;\">\n",
       "      <th></th>\n",
       "      <th>Department</th>\n",
       "      <th>Length_stay</th>\n",
       "      <th>count</th>\n",
       "    </tr>\n",
       "  </thead>\n",
       "  <tbody>\n",
       "    <tr>\n",
       "      <th>0</th>\n",
       "      <td>TB &amp; Chest disease</td>\n",
       "      <td>14-21days</td>\n",
       "      <td>2379</td>\n",
       "    </tr>\n",
       "    <tr>\n",
       "      <th>1</th>\n",
       "      <td>anesthesia</td>\n",
       "      <td>14-21days</td>\n",
       "      <td>8823</td>\n",
       "    </tr>\n",
       "    <tr>\n",
       "      <th>2</th>\n",
       "      <td>gynecology</td>\n",
       "      <td>14-21days</td>\n",
       "      <td>59690</td>\n",
       "    </tr>\n",
       "    <tr>\n",
       "      <th>3</th>\n",
       "      <td>radiotherapy</td>\n",
       "      <td>14-21days</td>\n",
       "      <td>6988</td>\n",
       "    </tr>\n",
       "    <tr>\n",
       "      <th>4</th>\n",
       "      <td>surgery</td>\n",
       "      <td>14-21days</td>\n",
       "      <td>259</td>\n",
       "    </tr>\n",
       "  </tbody>\n",
       "</table>\n",
       "</div>"
      ],
      "text/plain": [
       "           Department Length_stay  count\n",
       "0  TB & Chest disease   14-21days   2379\n",
       "1          anesthesia   14-21days   8823\n",
       "2          gynecology   14-21days  59690\n",
       "3        radiotherapy   14-21days   6988\n",
       "4             surgery   14-21days    259"
      ]
     },
     "execution_count": 64,
     "metadata": {},
     "output_type": "execute_result"
    }
   ],
   "source": [
    "gp = pd.melt(group1, id_vars=['Department'],var_name = 'Length_stay', value_name = 'count')\n",
    "gp.head()"
   ]
  },
  {
   "cell_type": "code",
   "execution_count": 68,
   "metadata": {},
   "outputs": [
    {
     "data": {
      "text/plain": [
       "<matplotlib.axes._subplots.AxesSubplot at 0x249a5ae4820>"
      ]
     },
     "execution_count": 68,
     "metadata": {},
     "output_type": "execute_result"
    },
    {
     "data": {
      "image/png": "[encoded data removed]",
      "text/plain": [
       "<Figure size 1080x576 with 1 Axes>"
      ]
     },
     "metadata": {
      "needs_background": "light"
     },
     "output_type": "display_data"
    }
   ],
   "source": [
    "plt.figure(figsize=(15,8))\n",
    "sns.barplot(x = 'Department', y = 'count', hue = 'Length_stay', data = gp)"
   ]
  },
  {
   "cell_type": "code",
   "execution_count": 77,
   "metadata": {},
   "outputs": [
    {
     "data": {
      "text/html": [
       "<div>\n",
       "<style scoped>\n",
       "    .dataframe tbody tr th:only-of-type {\n",
       "        vertical-align: middle;\n",
       "    }\n",
       "\n",
       "    .dataframe tbody tr th {\n",
       "        vertical-align: top;\n",
       "    }\n",
       "\n",
       "    .dataframe thead th {\n",
       "        text-align: right;\n",
       "    }\n",
       "</style>\n",
       "<table border=\"1\" class=\"dataframe\">\n",
       "  <thead>\n",
       "    <tr style=\"text-align: right;\">\n",
       "      <th>newcolumn</th>\n",
       "      <th>Type of Admission</th>\n",
       "      <th>14-21days</th>\n",
       "      <th>3weeks-month</th>\n",
       "      <th>More than a month</th>\n",
       "      <th>within 10 Days</th>\n",
       "    </tr>\n",
       "  </thead>\n",
       "  <tbody>\n",
       "    <tr>\n",
       "      <th>0</th>\n",
       "      <td>Emergency</td>\n",
       "      <td>31559</td>\n",
       "      <td>27399</td>\n",
       "      <td>44500</td>\n",
       "      <td>14218</td>\n",
       "    </tr>\n",
       "    <tr>\n",
       "      <th>1</th>\n",
       "      <td>Trauma</td>\n",
       "      <td>33745</td>\n",
       "      <td>46244</td>\n",
       "      <td>66944</td>\n",
       "      <td>5328</td>\n",
       "    </tr>\n",
       "    <tr>\n",
       "      <th>2</th>\n",
       "      <td>Urgent</td>\n",
       "      <td>12835</td>\n",
       "      <td>13848</td>\n",
       "      <td>17760</td>\n",
       "      <td>4058</td>\n",
       "    </tr>\n",
       "  </tbody>\n",
       "</table>\n",
       "</div>"
      ],
      "text/plain": [
       "newcolumn Type of Admission  14-21days  3weeks-month  More than a month  \\\n",
       "0                 Emergency      31559         27399              44500   \n",
       "1                    Trauma      33745         46244              66944   \n",
       "2                    Urgent      12835         13848              17760   \n",
       "\n",
       "newcolumn  within 10 Days  \n",
       "0                   14218  \n",
       "1                    5328  \n",
       "2                    4058  "
      ]
     },
     "execution_count": 77,
     "metadata": {},
     "output_type": "execute_result"
    }
   ],
   "source": [
    "group = df.groupby('Type of Admission').newcolumn.value_counts()\n",
    "group =  group.unstack().reset_index()\n",
    "group.head()"
   ]
  },
  {
   "cell_type": "code",
   "execution_count": 78,
   "metadata": {},
   "outputs": [
    {
     "data": {
      "text/html": [
       "<div>\n",
       "<style scoped>\n",
       "    .dataframe tbody tr th:only-of-type {\n",
       "        vertical-align: middle;\n",
       "    }\n",
       "\n",
       "    .dataframe tbody tr th {\n",
       "        vertical-align: top;\n",
       "    }\n",
       "\n",
       "    .dataframe thead th {\n",
       "        text-align: right;\n",
       "    }\n",
       "</style>\n",
       "<table border=\"1\" class=\"dataframe\">\n",
       "  <thead>\n",
       "    <tr style=\"text-align: right;\">\n",
       "      <th></th>\n",
       "      <th>Type of Admission</th>\n",
       "      <th>Length_stay</th>\n",
       "      <th>count</th>\n",
       "    </tr>\n",
       "  </thead>\n",
       "  <tbody>\n",
       "    <tr>\n",
       "      <th>0</th>\n",
       "      <td>Emergency</td>\n",
       "      <td>14-21days</td>\n",
       "      <td>31559</td>\n",
       "    </tr>\n",
       "    <tr>\n",
       "      <th>1</th>\n",
       "      <td>Trauma</td>\n",
       "      <td>14-21days</td>\n",
       "      <td>33745</td>\n",
       "    </tr>\n",
       "    <tr>\n",
       "      <th>2</th>\n",
       "      <td>Urgent</td>\n",
       "      <td>14-21days</td>\n",
       "      <td>12835</td>\n",
       "    </tr>\n",
       "    <tr>\n",
       "      <th>3</th>\n",
       "      <td>Emergency</td>\n",
       "      <td>3weeks-month</td>\n",
       "      <td>27399</td>\n",
       "    </tr>\n",
       "    <tr>\n",
       "      <th>4</th>\n",
       "      <td>Trauma</td>\n",
       "      <td>3weeks-month</td>\n",
       "      <td>46244</td>\n",
       "    </tr>\n",
       "  </tbody>\n",
       "</table>\n",
       "</div>"
      ],
      "text/plain": [
       "  Type of Admission   Length_stay  count\n",
       "0         Emergency     14-21days  31559\n",
       "1            Trauma     14-21days  33745\n",
       "2            Urgent     14-21days  12835\n",
       "3         Emergency  3weeks-month  27399\n",
       "4            Trauma  3weeks-month  46244"
      ]
     },
     "execution_count": 78,
     "metadata": {},
     "output_type": "execute_result"
    }
   ],
   "source": [
    "p = pd.melt(group1, id_vars=['Type of Admission'],var_name = 'Length_stay', value_name = 'count')\n",
    "p.head()"
   ]
  },
  {
   "cell_type": "code",
   "execution_count": 79,
   "metadata": {},
   "outputs": [
    {
     "data": {
      "text/plain": [
       "<matplotlib.axes._subplots.AxesSubplot at 0x249a63aa520>"
      ]
     },
     "execution_count": 79,
     "metadata": {},
     "output_type": "execute_result"
    },
    {
     "data": {
      "image/png": "[encoded data removed]",
      "text/plain": [
       "<Figure size 1080x576 with 1 Axes>"
      ]
     },
     "metadata": {
      "needs_background": "light"
     },
     "output_type": "display_data"
    }
   ],
   "source": [
    "plt.figure(figsize=(15,8))\n",
    "sns.barplot(x = 'Type of Admission', y = 'count', hue = 'Length_stay', data = p)"
   ]
  },
  {
   "cell_type": "code",
   "execution_count": null,
   "metadata": {},
   "outputs": [],
   "source": []
  },
  {
   "cell_type": "code",
   "execution_count": 88,
   "metadata": {},
   "outputs": [
    {
     "data": {
      "text/html": [
       "<div>\n",
       "<style scoped>\n",
       "    .dataframe tbody tr th:only-of-type {\n",
       "        vertical-align: middle;\n",
       "    }\n",
       "\n",
       "    .dataframe tbody tr th {\n",
       "        vertical-align: top;\n",
       "    }\n",
       "\n",
       "    .dataframe thead th {\n",
       "        text-align: right;\n",
       "    }\n",
       "</style>\n",
       "<table border=\"1\" class=\"dataframe\">\n",
       "  <thead>\n",
       "    <tr style=\"text-align: right;\">\n",
       "      <th></th>\n",
       "      <th>Stay</th>\n",
       "      <th>counts</th>\n",
       "    </tr>\n",
       "  </thead>\n",
       "  <tbody>\n",
       "    <tr>\n",
       "      <th>0</th>\n",
       "      <td>21-30</td>\n",
       "      <td>87491</td>\n",
       "    </tr>\n",
       "    <tr>\n",
       "      <th>1</th>\n",
       "      <td>11-20</td>\n",
       "      <td>78139</td>\n",
       "    </tr>\n",
       "    <tr>\n",
       "      <th>2</th>\n",
       "      <td>31-40</td>\n",
       "      <td>55159</td>\n",
       "    </tr>\n",
       "    <tr>\n",
       "      <th>3</th>\n",
       "      <td>51-60</td>\n",
       "      <td>35018</td>\n",
       "    </tr>\n",
       "    <tr>\n",
       "      <th>4</th>\n",
       "      <td>0-10</td>\n",
       "      <td>23604</td>\n",
       "    </tr>\n",
       "    <tr>\n",
       "      <th>5</th>\n",
       "      <td>41-50</td>\n",
       "      <td>11743</td>\n",
       "    </tr>\n",
       "    <tr>\n",
       "      <th>6</th>\n",
       "      <td>71-80</td>\n",
       "      <td>10254</td>\n",
       "    </tr>\n",
       "    <tr>\n",
       "      <th>7</th>\n",
       "      <td>More than 100 Days</td>\n",
       "      <td>6683</td>\n",
       "    </tr>\n",
       "    <tr>\n",
       "      <th>8</th>\n",
       "      <td>81-90</td>\n",
       "      <td>4838</td>\n",
       "    </tr>\n",
       "    <tr>\n",
       "      <th>9</th>\n",
       "      <td>91-100</td>\n",
       "      <td>2765</td>\n",
       "    </tr>\n",
       "    <tr>\n",
       "      <th>10</th>\n",
       "      <td>61-70</td>\n",
       "      <td>2744</td>\n",
       "    </tr>\n",
       "  </tbody>\n",
       "</table>\n",
       "</div>"
      ],
      "text/plain": [
       "                  Stay  counts\n",
       "0                21-30   87491\n",
       "1                11-20   78139\n",
       "2                31-40   55159\n",
       "3                51-60   35018\n",
       "4                 0-10   23604\n",
       "5                41-50   11743\n",
       "6                71-80   10254\n",
       "7   More than 100 Days    6683\n",
       "8                81-90    4838\n",
       "9               91-100    2765\n",
       "10               61-70    2744"
      ]
     },
     "execution_count": 88,
     "metadata": {},
     "output_type": "execute_result"
    }
   ],
   "source": [
    "leng = df['Stay'].value_counts().rename_axis('Stay').reset_index(name='counts')\n",
    "leng"
   ]
  },
  {
   "cell_type": "code",
   "execution_count": 98,
   "metadata": {},
   "outputs": [],
   "source": [
    "b = pd.DataFrame({'Percentage': df.groupby(( 'Stay')).size() / len(df)})*100\n",
    "b = b.reset_index()"
   ]
  },
  {
   "cell_type": "code",
   "execution_count": null,
   "metadata": {},
   "outputs": [],
   "source": []
  },
  {
   "cell_type": "code",
   "execution_count": 111,
   "metadata": {},
   "outputs": [
    {
     "data": {
      "text/plain": [
       "<matplotlib.axes._subplots.AxesSubplot at 0x249a6bdbb20>"
      ]
     },
     "execution_count": 111,
     "metadata": {},
     "output_type": "execute_result"
    },
    {
     "data": {
      "image/png": "[encoded data removed]",
      "text/plain": [
       "<Figure size 1080x576 with 1 Axes>"
      ]
     },
     "metadata": {
      "needs_background": "light"
     },
     "output_type": "display_data"
    }
   ],
   "source": [
    "plt.figure(figsize=(15,8))\n",
    "sns.barplot(x ='Stay', y = 'Percentage', data = b)"
   ]
  },
  {
   "cell_type": "code",
   "execution_count": 114,
   "metadata": {},
   "outputs": [
    {
     "data": {
      "text/html": [
       "<div>\n",
       "<style scoped>\n",
       "    .dataframe tbody tr th:only-of-type {\n",
       "        vertical-align: middle;\n",
       "    }\n",
       "\n",
       "    .dataframe tbody tr th {\n",
       "        vertical-align: top;\n",
       "    }\n",
       "\n",
       "    .dataframe thead th {\n",
       "        text-align: right;\n",
       "    }\n",
       "</style>\n",
       "<table border=\"1\" class=\"dataframe\">\n",
       "  <thead>\n",
       "    <tr style=\"text-align: right;\">\n",
       "      <th></th>\n",
       "      <th>newcolumn</th>\n",
       "      <th>Percentage</th>\n",
       "    </tr>\n",
       "  </thead>\n",
       "  <tbody>\n",
       "    <tr>\n",
       "      <th>0</th>\n",
       "      <td>14-21days</td>\n",
       "      <td>24.538215</td>\n",
       "    </tr>\n",
       "    <tr>\n",
       "      <th>1</th>\n",
       "      <td>3weeks-month</td>\n",
       "      <td>27.475050</td>\n",
       "    </tr>\n",
       "    <tr>\n",
       "      <th>2</th>\n",
       "      <td>More than a month</td>\n",
       "      <td>40.574303</td>\n",
       "    </tr>\n",
       "    <tr>\n",
       "      <th>3</th>\n",
       "      <td>within 10 Days</td>\n",
       "      <td>7.412432</td>\n",
       "    </tr>\n",
       "  </tbody>\n",
       "</table>\n",
       "</div>"
      ],
      "text/plain": [
       "           newcolumn  Percentage\n",
       "0          14-21days   24.538215\n",
       "1       3weeks-month   27.475050\n",
       "2  More than a month   40.574303\n",
       "3     within 10 Days    7.412432"
      ]
     },
     "execution_count": 114,
     "metadata": {},
     "output_type": "execute_result"
    }
   ],
   "source": [
    "c = pd.DataFrame({'Percentage': df.groupby(( 'newcolumn')).size() / len(df)})*100\n",
    "c = c.reset_index()\n",
    "c"
   ]
  },
  {
   "cell_type": "code",
   "execution_count": 116,
   "metadata": {},
   "outputs": [
    {
     "data": {
      "text/plain": [
       "<matplotlib.axes._subplots.AxesSubplot at 0x249a6c3ae50>"
      ]
     },
     "execution_count": 116,
     "metadata": {},
     "output_type": "execute_result"
    },
    {
     "data": {
      "image/png": "[encoded data removed]",
      "text/plain": [
       "<Figure size 720x576 with 1 Axes>"
      ]
     },
     "metadata": {
      "needs_background": "light"
     },
     "output_type": "display_data"
    }
   ],
   "source": [
    "plt.figure(figsize=(10,8))\n",
    "sns.barplot(x ='newcolumn', y = 'Percentage', data = c)"
   ]
  },
  {
   "cell_type": "code",
   "execution_count": null,
   "metadata": {},
   "outputs": [],
   "source": []
  }
 ],
 "metadata": {
  "kernelspec": {
   "display_name": "Python 3",
   "language": "python",
   "name": "python3"
  },
  "language_info": {
   "codemirror_mode": {
    "name": "ipython",
    "version": 3
   },
   "file_extension": ".py",
   "mimetype": "text/x-python",
   "name": "python",
   "nbconvert_exporter": "python",
   "pygments_lexer": "ipython3",
   "version": "3.8.3"
  }
 },
 "nbformat": 4,
 "nbformat_minor": 4
}
